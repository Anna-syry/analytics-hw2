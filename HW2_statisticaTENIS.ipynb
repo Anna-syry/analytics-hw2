{
 "cells": [
  {
   "cell_type": "markdown",
   "metadata": {},
   "source": [
    "\n",
    "<h1 align=\"center\">Аналитика данных. Домашнее задание 2.</h1>\n",
    "\n",
    "<p align=\"center\">Использование статистических тестов для анализа результатов теннисных матчей на практике.</p>\n",
    "\n",
    "<p align=\"center\">Подробное описание смотри в readme.md</p>\n"
   ]
  },
  {
   "cell_type": "markdown",
   "metadata": {},
   "source": [
    "## План работы по каждой задаче\n",
    "\n",
    "- Шаг 1: Подготовка данных\n",
    "    - Загрузка данных\n",
    "    - Предобработка датасетов (Пропуски и явные дубликаты)\n",
    "  \n",
    "- Шаг 2: Формулирование гипотез\n",
    "    - Нулевая гипотеза\n",
    "    - Альтернативная гипотеза\n",
    "\n",
    "- Шаг 3: Определение характеристик выборки\n",
    "    - Размер, среднее, дисперсия и тд\n",
    "\n",
    "- Шаг 4: Определение подходящих тестов\n",
    "    - Обоснование выбора теста\n",
    "    - Проведение теста\n",
    "    - Принятие или отклонение нулевой гипотезы\n",
    "\n",
    "- Шаг 5: Формулирование выводов\n",
    "\n"
   ]
  },
  {
   "cell_type": "code",
   "execution_count": 165,
   "metadata": {},
   "outputs": [],
   "source": [
    "# Импорты библиотек для проекта\n",
    "import requests\n",
    "#from bs4 import BeautifulSoup\n",
    "import re\n",
    "\n",
    "import os\n",
    "import glob\n",
    "\n",
    "import pandas as pd\n",
    "import seaborn as sns\n",
    "import numpy as np\n",
    "import matplotlib.pyplot as plt\n",
    "\n",
    "from scipy.stats import ks_2samp # тест на нормальность распределения Колмогорова-Смирнова\n",
    "from scipy.stats import shapiro # тест на нормальность распределения Шапиро\n",
    "from scipy.stats import normaltest # тест на нормальность распределения Деагостино\n",
    "from scipy.stats import mannwhitneyu # тест Манна-Уитни непараметрический тест\n",
    "from scipy.stats import ttest_ind # t-тест\n",
    "from statsmodels.stats.weightstats import ztest # z-тест\n",
    "from scipy.stats import kruskal\n",
    "from scipy.stats import ttest_ind\n",
    "from statsmodels.stats.proportion import proportions_ztest\n",
    "%matplotlib inline\n",
    "\n",
    "#import warnings\n",
    "#warnings.filterwarnings('ignore')"
   ]
  },
  {
   "cell_type": "markdown",
   "metadata": {},
   "source": [
    "## Подготовка данных для всех задач"
   ]
  },
  {
   "cell_type": "markdown",
   "metadata": {},
   "source": [
    "Все .csv файлы сложены в папку ./github_data"
   ]
  },
  {
   "cell_type": "code",
   "execution_count": 166,
   "metadata": {},
   "outputs": [],
   "source": [
    "# Собираем данные из всех .csv файлы в единый датафрейм\n",
    "\n",
    "# путь к папке с данными\n",
    "folder_path = 'github_data'\n",
    "\n",
    "# Получаем список всех csv файлов в папке с данными, соответствующих маске 'atp_matches_*.csv'\n",
    "csv_files = glob.glob(os.path.join(folder_path, 'atp_matches_*.csv'))\n",
    "\n",
    "# Читаем каждый csv файл и добавляем его в список датафреймов\n",
    "df_list = [pd.read_csv(file) for file in csv_files]\n",
    "\n",
    "# Объединяем все датафреймы в один, игнорируя индексы и используя внешнее объединение\n",
    "combined_df = pd.concat(df_list, ignore_index=True, join='outer')\n",
    "\n",
    "# Извлекаем год из столбца tourney_id, преобразуем его в целочисленный тип\n",
    "combined_df['year'] = combined_df['tourney_id'].str.extract(\n",
    "    r'(\\d{4})').astype(int)\n",
    "\n",
    "# Сохраняем датафрейм без индексов в csv файле, который будем использовать для решения задач\n",
    "combined_df.to_csv('combined_atp_matches.csv', index=False)"
   ]
  },
  {
   "cell_type": "code",
   "execution_count": 167,
   "metadata": {},
   "outputs": [
    {
     "data": {
      "text/plain": [
       "(191920, 50)"
      ]
     },
     "execution_count": 167,
     "metadata": {},
     "output_type": "execute_result"
    }
   ],
   "source": [
    "# размерность датафрейма\n",
    "combined_df.shape"
   ]
  },
  {
   "cell_type": "markdown",
   "metadata": {},
   "source": [
    "## Используемые функции"
   ]
  },
  {
   "cell_type": "code",
   "execution_count": 168,
   "metadata": {},
   "outputs": [],
   "source": [
    "def dataframe_summary(df):\n",
    "    \"\"\"\n",
    "    Функция для исследования каждого DataFrame:\n",
    "    - Количество строк и столбцов\n",
    "    - Количество пропусков в каждом столбце\n",
    "    - Количество явных дубликатов\n",
    "\n",
    "    Параметры:\n",
    "    df (DataFrame): Входной DataFrame.\n",
    "\n",
    "    Возвращает:\n",
    "    None: Функция выводит результаты на экран.\n",
    "    \"\"\"\n",
    "    # Количество строк и столбцов\n",
    "    num_rows, num_cols = df.shape\n",
    "    print(\"Количество строк:\", num_rows)\n",
    "    print(\"Количество столбцов:\", num_cols)\n",
    "\n",
    "    # Количество пропусков в столбцах\n",
    "    missing_values = df.isnull().sum()\n",
    "    print(\"Количество пропусков в столбцах:\")\n",
    "    print(missing_values)\n",
    "\n",
    "    # Количество явных дубликатов\n",
    "    num_duplicates = df.duplicated().sum()\n",
    "    print(\"Количество явных дубликатов:\", num_duplicates)\n"
   ]
  },
  {
   "cell_type": "code",
   "execution_count": 169,
   "metadata": {},
   "outputs": [],
   "source": [
    "def low_information_features(df):\n",
    "    \"\"\"\n",
    "    Функция для определения неинформативных признаков в датафрейме.\n",
    "    \n",
    "    Признаки считаются неинформативными, если одно значение встречается более чем в 95%\n",
    "    случаев или если более 95% значений являются уникальными.\n",
    "    \n",
    "    Args:\n",
    "        df (pandas.DataFrame): Входной датафрейм.\n",
    "        \n",
    "    Returns:\n",
    "        Union[list, str]: Список неинформативных признаков или сообщение об их отсутствии.\n",
    "    \"\"\"\n",
    "    low_information_cols = []  # инициализация списка для неинформативных признаков\n",
    "\n",
    "    for col in df.columns:  # цикл по всем столбцам\n",
    "        # наибольшая относительная частота в признаке\n",
    "        top_freq = df[col].value_counts(normalize=True).max()\n",
    "        # доля уникальных значений от размера признака\n",
    "        nunique_ratio = df[col].nunique() / df[col].count()\n",
    "\n",
    "        # считаем признак неинформативным, если одно значение встречается более чем в 95% случаев\n",
    "        if top_freq > 0.95:\n",
    "            low_information_cols.append(col)  # добавляем столбец в список\n",
    "            # выводим информацию о признаке\n",
    "            print(f'{col}: {round(top_freq*100, 2)}% одинаковых значений')\n",
    "\n",
    "        # считаем признак неинформативным, если более 95% значений являются уникальными\n",
    "        elif nunique_ratio > 0.95:\n",
    "            low_information_cols.append(col)  # добавляем столбец в список\n",
    "            # выводим информацию о признаке\n",
    "            print(f'{col}: {round(nunique_ratio*100, 2)}% уникальных значений')\n",
    "\n",
    "    # возвращаем список неинформативных признаков или сообщение об их отсутствии\n",
    "    return low_information_cols if low_information_cols else \"Нет неинформативных признаков\""
   ]
  },
  {
   "cell_type": "code",
   "execution_count": 170,
   "metadata": {},
   "outputs": [],
   "source": [
    "def plot_missing_values(df):\n",
    "    \"\"\"\n",
    "    Функция для построения столбчатой диаграммы, отображающей процент пропущенных значений в каждом столбце датафрейма.\n",
    "\n",
    "    Параметры:\n",
    "    df (DataFrame): Входной DataFrame.\n",
    "\n",
    "    Возвращает:\n",
    "    None: Функция выводит график на экран.\n",
    "    \"\"\"\n",
    "    # Вычисляем процент пропущенных значений в каждом столбце\n",
    "    missing_percentages = df.isnull().mean() * 100\n",
    "\n",
    "    # Строим столбчатую диаграмму\n",
    "    plt.figure(figsize=(10, 6))\n",
    "    missing_percentages.plot(kind='bar', color='skyblue')\n",
    "    plt.title('Процент пропущенных значений в каждом столбце')\n",
    "    plt.xlabel('Столбцы')\n",
    "    plt.ylabel('Процент пропущенных значений')\n",
    "    plt.xticks(rotation=90)\n",
    "    plt.grid(axis='y')\n",
    "    plt.show()\n"
   ]
  },
  {
   "cell_type": "code",
   "execution_count": 171,
   "metadata": {},
   "outputs": [],
   "source": [
    "def plot_sample_data(sample_data_a, sample_data_b, title_a='a', title_b='b'):\n",
    "    \"\"\"\n",
    "    Функция для создания гистограмм и boxplot для двух выборок.\n",
    "\n",
    "    Args:\n",
    "    sample_data_a: Первая выборка данных\n",
    "    sample_data_b: Вторая выборка данных\n",
    "    title_a: Название для первой выборки\n",
    "    title_b: Название для второй выборки\n",
    "    \"\"\"\n",
    "    fig, axs = plt.subplots(2, 2, figsize=(10, 10))\n",
    "    plt.subplots_adjust(hspace=0.5)\n",
    "\n",
    "    # Создание гистограммы для sample_data_a\n",
    "    sns.histplot(sample_data_a, kde=True, ax=axs[0, 0])\n",
    "    axs[0, 0].set_title(f'Гистограмма для {title_a}')\n",
    "\n",
    "    # Создание гистограммы для sample_data_b\n",
    "    sns.histplot(sample_data_b, kde=True, ax=axs[0, 1])\n",
    "    axs[0, 1].set_title(f'Гистограмма для {title_b}')\n",
    "\n",
    "    # Создание графика boxplot для sample_data_a с отрисовкой среднего и медианы\n",
    "    sns.boxplot(sample_data_a,\n",
    "                ax=axs[1, 0], showmeans=True, meanline=True, showfliers=False)\n",
    "    axs[1, 0].set_title(\n",
    "        f'Boxplot для {title_a} \\n mean: {np.mean(sample_data_a):.2f}, median: {np.median(sample_data_a):.2f}')\n",
    "\n",
    "    # Создание графика boxplot для sample_data_b с отрисовкой среднего и медианы\n",
    "    sns.boxplot(sample_data_b,\n",
    "                ax=axs[1, 1], showmeans=True, meanline=True, showfliers=False)\n",
    "    axs[1, 1].set_title(\n",
    "        f'Boxplot для {title_b} \\n mean: {np.mean(sample_data_b):.2f}, median: {np.median(sample_data_b):.2f}')\n",
    "\n",
    "    plt.show()"
   ]
  },
  {
   "cell_type": "code",
   "execution_count": 172,
   "metadata": {},
   "outputs": [],
   "source": [
    "def shapiro_test(sample_a, sample_b, alpha=0.05):\n",
    "    \"\"\"\n",
    "    Функция для тестирования нормальности распределения двух выборок методом Шапиро-Уилка.\n",
    "\n",
    "    Параметры:\n",
    "        - sample_a: первая выборка для тестирования\n",
    "        - sample_b: вторая выборка для тестирования\n",
    "        - alpha: уровень значимости (по умолчанию 0.05)\n",
    "\n",
    "    Возвращает:\n",
    "        - Результаты теста и вывод на экран\n",
    "\n",
    "    \"\"\"\n",
    "\n",
    "    # Формулируем нулевую и альтернативную гипотезы\n",
    "    H0 = 'Распределения в обеих группах нормальные'\n",
    "    H1 = 'Распределение в одной или обеих группах отлично от нормального'\n",
    "\n",
    "    # Проводим тест Шапиро-Уилка для каждой выборки\n",
    "    shapiro_result_a = shapiro(sample_a)\n",
    "    shapiro_result_b = shapiro(sample_b)\n",
    "\n",
    "    # Вывод уровня значимости и p-value для каждой выборки\n",
    "    print(f'alpha: {alpha}')\n",
    "    print('p-value sample A', round(shapiro_result_a.pvalue, 2))\n",
    "    print('p-value sample B', round(shapiro_result_b.pvalue, 2))\n",
    "\n",
    "    # Вывод результатов\n",
    "    if shapiro_result_a.pvalue < alpha or shapiro_result_b.pvalue < alpha:\n",
    "        print(\"Отвергаем нулевую гипотезу H0: {}\".format(H0))\n",
    "        print(\"Альтернативная гипотеза. H1: {}\".format(H1))\n",
    "    else:\n",
    "        print(\"Принимаем нулевую гипотезу. {}\".format(H0))"
   ]
  },
  {
   "cell_type": "markdown",
   "metadata": {},
   "source": [
    " ## Предобработка датасета"
   ]
  },
  {
   "cell_type": "code",
   "execution_count": 173,
   "metadata": {},
   "outputs": [
    {
     "data": {
      "text/plain": [
       "'Нет неинформативных признаков'"
      ]
     },
     "execution_count": 173,
     "metadata": {},
     "output_type": "execute_result"
    }
   ],
   "source": [
    "# выявляем неинформативные признаки\n",
    "low_information_features(combined_df)"
   ]
  },
  {
   "cell_type": "code",
   "execution_count": 174,
   "metadata": {},
   "outputs": [
    {
     "data": {
      "image/png": "[encoded data removed]",
      "text/plain": [
       "<Figure size 1000x600 with 1 Axes>"
      ]
     },
     "metadata": {},
     "output_type": "display_data"
    }
   ],
   "source": [
    "# процент пропущенных значений в каждом столбце датасета выводим в столбчатой диаграмме\n",
    "plot_missing_values(combined_df)"
   ]
  },
  {
   "cell_type": "code",
   "execution_count": 175,
   "metadata": {},
   "outputs": [],
   "source": [
    "# удаляем столбец если у него 60% или более значений отсутствует\n",
    "combined_df = combined_df.dropna(axis=1, thresh=(0.4 * combined_df.shape[0]))"
   ]
  },
  {
   "cell_type": "code",
   "execution_count": 176,
   "metadata": {},
   "outputs": [
    {
     "name": "stdout",
     "output_type": "stream",
     "text": [
      "Количество строк: 191920\n",
      "Количество столбцов: 46\n",
      "Количество пропусков в столбцах:\n",
      "tourney_id                0\n",
      "tourney_name              0\n",
      "surface                2990\n",
      "draw_size               835\n",
      "tourney_level             0\n",
      "tourney_date              0\n",
      "match_num                 0\n",
      "winner_id                 0\n",
      "winner_name               0\n",
      "winner_hand              12\n",
      "winner_ht             16908\n",
      "winner_ioc                8\n",
      "winner_age             1311\n",
      "loser_id                  0\n",
      "loser_name                0\n",
      "loser_hand               49\n",
      "loser_ht              29663\n",
      "loser_ioc                72\n",
      "loser_age              4657\n",
      "score                     9\n",
      "best_of                   0\n",
      "round                     0\n",
      "minutes               99653\n",
      "w_ace                 96885\n",
      "w_df                  96886\n",
      "w_svpt                96886\n",
      "w_1stIn               96886\n",
      "w_1stWon              96886\n",
      "w_2ndWon              96886\n",
      "w_SvGms               96885\n",
      "w_bpSaved             96886\n",
      "w_bpFaced             96886\n",
      "l_ace                 96886\n",
      "l_df                  96885\n",
      "l_svpt                96886\n",
      "l_1stIn               96886\n",
      "l_1stWon              96886\n",
      "l_2ndWon              96886\n",
      "l_SvGms               96885\n",
      "l_bpSaved             96886\n",
      "l_bpFaced             96886\n",
      "winner_rank           35761\n",
      "winner_rank_points    82984\n",
      "loser_rank            44132\n",
      "loser_rank_points     84612\n",
      "year                      0\n",
      "dtype: int64\n",
      "Количество явных дубликатов: 0\n"
     ]
    }
   ],
   "source": [
    "# выводим информацию о датасете после предобработки\n",
    "dataframe_summary (combined_df)"
   ]
  },
  {
   "cell_type": "code",
   "execution_count": 177,
   "metadata": {},
   "outputs": [
    {
     "data": {
      "text/html": [
       "<div>\n",
       "<style scoped>\n",
       "    .dataframe tbody tr th:only-of-type {\n",
       "        vertical-align: middle;\n",
       "    }\n",
       "\n",
       "    .dataframe tbody tr th {\n",
       "        vertical-align: top;\n",
       "    }\n",
       "\n",
       "    .dataframe thead th {\n",
       "        text-align: right;\n",
       "    }\n",
       "</style>\n",
       "<table border=\"1\" class=\"dataframe\">\n",
       "  <thead>\n",
       "    <tr style=\"text-align: right;\">\n",
       "      <th></th>\n",
       "      <th>tourney_id</th>\n",
       "      <th>tourney_name</th>\n",
       "      <th>surface</th>\n",
       "      <th>draw_size</th>\n",
       "      <th>tourney_level</th>\n",
       "      <th>tourney_date</th>\n",
       "      <th>match_num</th>\n",
       "      <th>winner_id</th>\n",
       "      <th>winner_name</th>\n",
       "      <th>winner_hand</th>\n",
       "      <th>...</th>\n",
       "      <th>l_1stWon</th>\n",
       "      <th>l_2ndWon</th>\n",
       "      <th>l_SvGms</th>\n",
       "      <th>l_bpSaved</th>\n",
       "      <th>l_bpFaced</th>\n",
       "      <th>winner_rank</th>\n",
       "      <th>winner_rank_points</th>\n",
       "      <th>loser_rank</th>\n",
       "      <th>loser_rank_points</th>\n",
       "      <th>year</th>\n",
       "    </tr>\n",
       "  </thead>\n",
       "  <tbody>\n",
       "    <tr>\n",
       "      <th>0</th>\n",
       "      <td>1968-2029</td>\n",
       "      <td>Dublin</td>\n",
       "      <td>Grass</td>\n",
       "      <td>32.0</td>\n",
       "      <td>A</td>\n",
       "      <td>19680708</td>\n",
       "      <td>270</td>\n",
       "      <td>112411</td>\n",
       "      <td>Doug Smith</td>\n",
       "      <td>U</td>\n",
       "      <td>...</td>\n",
       "      <td>NaN</td>\n",
       "      <td>NaN</td>\n",
       "      <td>NaN</td>\n",
       "      <td>NaN</td>\n",
       "      <td>NaN</td>\n",
       "      <td>NaN</td>\n",
       "      <td>NaN</td>\n",
       "      <td>NaN</td>\n",
       "      <td>NaN</td>\n",
       "      <td>1968</td>\n",
       "    </tr>\n",
       "    <tr>\n",
       "      <th>1</th>\n",
       "      <td>1968-2029</td>\n",
       "      <td>Dublin</td>\n",
       "      <td>Grass</td>\n",
       "      <td>32.0</td>\n",
       "      <td>A</td>\n",
       "      <td>19680708</td>\n",
       "      <td>271</td>\n",
       "      <td>126914</td>\n",
       "      <td>Louis Pretorius</td>\n",
       "      <td>R</td>\n",
       "      <td>...</td>\n",
       "      <td>NaN</td>\n",
       "      <td>NaN</td>\n",
       "      <td>NaN</td>\n",
       "      <td>NaN</td>\n",
       "      <td>NaN</td>\n",
       "      <td>NaN</td>\n",
       "      <td>NaN</td>\n",
       "      <td>NaN</td>\n",
       "      <td>NaN</td>\n",
       "      <td>1968</td>\n",
       "    </tr>\n",
       "    <tr>\n",
       "      <th>2</th>\n",
       "      <td>1968-2029</td>\n",
       "      <td>Dublin</td>\n",
       "      <td>Grass</td>\n",
       "      <td>32.0</td>\n",
       "      <td>A</td>\n",
       "      <td>19680708</td>\n",
       "      <td>272</td>\n",
       "      <td>209523</td>\n",
       "      <td>Cecil Pedlow</td>\n",
       "      <td>U</td>\n",
       "      <td>...</td>\n",
       "      <td>NaN</td>\n",
       "      <td>NaN</td>\n",
       "      <td>NaN</td>\n",
       "      <td>NaN</td>\n",
       "      <td>NaN</td>\n",
       "      <td>NaN</td>\n",
       "      <td>NaN</td>\n",
       "      <td>NaN</td>\n",
       "      <td>NaN</td>\n",
       "      <td>1968</td>\n",
       "    </tr>\n",
       "    <tr>\n",
       "      <th>3</th>\n",
       "      <td>1968-2029</td>\n",
       "      <td>Dublin</td>\n",
       "      <td>Grass</td>\n",
       "      <td>32.0</td>\n",
       "      <td>A</td>\n",
       "      <td>19680708</td>\n",
       "      <td>273</td>\n",
       "      <td>100084</td>\n",
       "      <td>Tom Okker</td>\n",
       "      <td>R</td>\n",
       "      <td>...</td>\n",
       "      <td>NaN</td>\n",
       "      <td>NaN</td>\n",
       "      <td>NaN</td>\n",
       "      <td>NaN</td>\n",
       "      <td>NaN</td>\n",
       "      <td>NaN</td>\n",
       "      <td>NaN</td>\n",
       "      <td>NaN</td>\n",
       "      <td>NaN</td>\n",
       "      <td>1968</td>\n",
       "    </tr>\n",
       "    <tr>\n",
       "      <th>4</th>\n",
       "      <td>1968-2029</td>\n",
       "      <td>Dublin</td>\n",
       "      <td>Grass</td>\n",
       "      <td>32.0</td>\n",
       "      <td>A</td>\n",
       "      <td>19680708</td>\n",
       "      <td>274</td>\n",
       "      <td>100132</td>\n",
       "      <td>Armistead Neely</td>\n",
       "      <td>R</td>\n",
       "      <td>...</td>\n",
       "      <td>NaN</td>\n",
       "      <td>NaN</td>\n",
       "      <td>NaN</td>\n",
       "      <td>NaN</td>\n",
       "      <td>NaN</td>\n",
       "      <td>NaN</td>\n",
       "      <td>NaN</td>\n",
       "      <td>NaN</td>\n",
       "      <td>NaN</td>\n",
       "      <td>1968</td>\n",
       "    </tr>\n",
       "  </tbody>\n",
       "</table>\n",
       "<p>5 rows × 46 columns</p>\n",
       "</div>"
      ],
      "text/plain": [
       "  tourney_id tourney_name surface  draw_size tourney_level  tourney_date  \\\n",
       "0  1968-2029       Dublin   Grass       32.0             A      19680708   \n",
       "1  1968-2029       Dublin   Grass       32.0             A      19680708   \n",
       "2  1968-2029       Dublin   Grass       32.0             A      19680708   \n",
       "3  1968-2029       Dublin   Grass       32.0             A      19680708   \n",
       "4  1968-2029       Dublin   Grass       32.0             A      19680708   \n",
       "\n",
       "   match_num  winner_id      winner_name winner_hand  ...  l_1stWon l_2ndWon  \\\n",
       "0        270     112411       Doug Smith           U  ...       NaN      NaN   \n",
       "1        271     126914  Louis Pretorius           R  ...       NaN      NaN   \n",
       "2        272     209523     Cecil Pedlow           U  ...       NaN      NaN   \n",
       "3        273     100084        Tom Okker           R  ...       NaN      NaN   \n",
       "4        274     100132  Armistead Neely           R  ...       NaN      NaN   \n",
       "\n",
       "   l_SvGms  l_bpSaved l_bpFaced winner_rank  winner_rank_points loser_rank  \\\n",
       "0      NaN        NaN       NaN         NaN                 NaN        NaN   \n",
       "1      NaN        NaN       NaN         NaN                 NaN        NaN   \n",
       "2      NaN        NaN       NaN         NaN                 NaN        NaN   \n",
       "3      NaN        NaN       NaN         NaN                 NaN        NaN   \n",
       "4      NaN        NaN       NaN         NaN                 NaN        NaN   \n",
       "\n",
       "   loser_rank_points  year  \n",
       "0                NaN  1968  \n",
       "1                NaN  1968  \n",
       "2                NaN  1968  \n",
       "3                NaN  1968  \n",
       "4                NaN  1968  \n",
       "\n",
       "[5 rows x 46 columns]"
      ]
     },
     "execution_count": 177,
     "metadata": {},
     "output_type": "execute_result"
    }
   ],
   "source": [
    "combined_df.head()"
   ]
  },
  {
   "cell_type": "markdown",
   "metadata": {},
   "source": [
    "## Задача 1a\n",
    "\n",
    ">Проверьте следующие утверждения - Если ранг игрока выше более, чем на 20 позиций, то в среднем он будет выигрывать с большей вероятностью. (Если хотите проверить статистически — формируйте выборку как отклонение от ожидаемого количества побед при случайном исходе);"
   ]
  },
  {
   "cell_type": "markdown",
   "metadata": {},
   "source": [
    "Шаги решения:\n",
    "* Сформировать две выборки игроков: первая выборка - игроки с рангом, отличающимся более чем на 20 позиций от противника, вторая - игроки с близким рангом к противнику (отличие менее 20 позиций). Например: \n",
    "`df_rank_1['higher_rank_win'] = (df_rank_1['winner_rank'] - df_rank_1['loser_rank']) > 20`\n",
    "* Для каждой игры в выборках посчитать ожидаемое количество побед при случайном исходе. Это можно сделать, умножив количество сыгранных игр на вероятность выигрыша 0,5 (при равных шансах для каждого игрока).\n",
    "* Посчитать фактическое количество побед для каждого игрока в выборках.\n",
    "* Вычислить отклонение фактического количества побед от ожидаемого для каждого игрока.\n",
    "* Рассчитать среднее отклонение для каждой выборки.\n",
    "* Сравнить средние отклонения между выборками. Если в первой выборке (ранг выше более чем на 20 позиций) среднее отклонение значительно выше, чем во второй выборке, то это подтверждает гипотезу о большей вероятности выигрыша у игроков с более высоким рангом."
   ]
  },
  {
   "cell_type": "code",
   "execution_count": 178,
   "metadata": {},
   "outputs": [
    {
     "data": {
      "text/plain": [
       "rank_diff_more20\n",
       "1    106767\n",
       "0     37093\n",
       "Name: count, dtype: int64"
      ]
     },
     "execution_count": 178,
     "metadata": {},
     "output_type": "execute_result"
    }
   ],
   "source": [
    "# Создание выборки для решения задачи\n",
    "combined_df = pd.read_csv('combined_atp_matches.csv')\n",
    "task_01_a = combined_df[['year', 'match_num', 'winner_id',\n",
    "                         'winner_rank', 'loser_id', 'loser_rank']].dropna()\n",
    "task_01_a['rank_diff_more20'] = np.where(\n",
    "    abs(task_01_a['winner_rank'] - task_01_a['loser_rank']) > 20, 1, 0)\n",
    "\n",
    "# Размеры выборок\n",
    "task_01_a.rank_diff_more20.value_counts()"
   ]
  },
  {
   "cell_type": "code",
   "execution_count": 179,
   "metadata": {},
   "outputs": [
    {
     "name": "stdout",
     "output_type": "stream",
     "text": [
      "Количество строк: 143860\n",
      "Количество столбцов: 7\n",
      "Количество пропусков в столбцах:\n",
      "year                0\n",
      "match_num           0\n",
      "winner_id           0\n",
      "winner_rank         0\n",
      "loser_id            0\n",
      "loser_rank          0\n",
      "rank_diff_more20    0\n",
      "dtype: int64\n",
      "Количество явных дубликатов: 57\n"
     ]
    },
    {
     "data": {
      "text/html": [
       "<div>\n",
       "<style scoped>\n",
       "    .dataframe tbody tr th:only-of-type {\n",
       "        vertical-align: middle;\n",
       "    }\n",
       "\n",
       "    .dataframe tbody tr th {\n",
       "        vertical-align: top;\n",
       "    }\n",
       "\n",
       "    .dataframe thead th {\n",
       "        text-align: right;\n",
       "    }\n",
       "</style>\n",
       "<table border=\"1\" class=\"dataframe\">\n",
       "  <thead>\n",
       "    <tr style=\"text-align: right;\">\n",
       "      <th></th>\n",
       "      <th>year</th>\n",
       "      <th>match_num</th>\n",
       "      <th>winner_id</th>\n",
       "      <th>winner_rank</th>\n",
       "      <th>loser_id</th>\n",
       "      <th>loser_rank</th>\n",
       "      <th>rank_diff_more20</th>\n",
       "    </tr>\n",
       "  </thead>\n",
       "  <tbody>\n",
       "    <tr>\n",
       "      <th>18086</th>\n",
       "      <td>1973</td>\n",
       "      <td>1</td>\n",
       "      <td>100119</td>\n",
       "      <td>1.0</td>\n",
       "      <td>100129</td>\n",
       "      <td>88.0</td>\n",
       "      <td>1</td>\n",
       "    </tr>\n",
       "    <tr>\n",
       "      <th>18087</th>\n",
       "      <td>1973</td>\n",
       "      <td>2</td>\n",
       "      <td>100304</td>\n",
       "      <td>193.0</td>\n",
       "      <td>100067</td>\n",
       "      <td>71.0</td>\n",
       "      <td>1</td>\n",
       "    </tr>\n",
       "    <tr>\n",
       "      <th>18088</th>\n",
       "      <td>1973</td>\n",
       "      <td>3</td>\n",
       "      <td>100135</td>\n",
       "      <td>39.0</td>\n",
       "      <td>100376</td>\n",
       "      <td>118.0</td>\n",
       "      <td>1</td>\n",
       "    </tr>\n",
       "    <tr>\n",
       "      <th>18089</th>\n",
       "      <td>1973</td>\n",
       "      <td>4</td>\n",
       "      <td>100121</td>\n",
       "      <td>42.0</td>\n",
       "      <td>100075</td>\n",
       "      <td>135.0</td>\n",
       "      <td>1</td>\n",
       "    </tr>\n",
       "    <tr>\n",
       "      <th>18090</th>\n",
       "      <td>1973</td>\n",
       "      <td>5</td>\n",
       "      <td>100284</td>\n",
       "      <td>4.0</td>\n",
       "      <td>100058</td>\n",
       "      <td>11.0</td>\n",
       "      <td>0</td>\n",
       "    </tr>\n",
       "  </tbody>\n",
       "</table>\n",
       "</div>"
      ],
      "text/plain": [
       "       year  match_num  winner_id  winner_rank  loser_id  loser_rank  \\\n",
       "18086  1973          1     100119          1.0    100129        88.0   \n",
       "18087  1973          2     100304        193.0    100067        71.0   \n",
       "18088  1973          3     100135         39.0    100376       118.0   \n",
       "18089  1973          4     100121         42.0    100075       135.0   \n",
       "18090  1973          5     100284          4.0    100058        11.0   \n",
       "\n",
       "       rank_diff_more20  \n",
       "18086                 1  \n",
       "18087                 1  \n",
       "18088                 1  \n",
       "18089                 1  \n",
       "18090                 0  "
      ]
     },
     "execution_count": 179,
     "metadata": {},
     "output_type": "execute_result"
    }
   ],
   "source": [
    "dataframe_summary(task_01_a)\n",
    "task_01_a.head()"
   ]
  },
  {
   "cell_type": "code",
   "execution_count": 180,
   "metadata": {},
   "outputs": [],
   "source": [
    "def calculate_player_performance_metrics(task_01_a):\n",
    "   \"\"\"\n",
    "   Функция для расчёта метрик производительности игроков\n",
    "\n",
    "   Parameters:\n",
    "   task_01_a (DataFrame): DataFrame с информацией о победах и поражениях\n",
    "\n",
    "   Returns:\n",
    "   DataFrame: DataFrame с метриками производительности игроков\n",
    "   \"\"\"\n",
    "   wins_count = task_01_a['winner_id'].value_counts()\n",
    "   losses_count = task_01_a['loser_id'].value_counts()\n",
    "   total_games = wins_count.add(losses_count, fill_value=0).astype(int)\n",
    "   player_performance_df = pd.DataFrame({\n",
    "       'player_id': total_games.index,\n",
    "       'wins': wins_count,\n",
    "       'losses': losses_count,\n",
    "       'total': total_games\n",
    "   }).reset_index(drop=True)\n",
    "   player_performance_df['wins'].fillna(0, inplace=True)\n",
    "   player_performance_df['losses'].fillna(0, inplace=True)\n",
    "   player_performance_df['wins'] = player_performance_df['wins'].astype(int)\n",
    "   player_performance_df['losses'] = player_performance_df['losses'].astype(\n",
    "       int)\n",
    "   player_performance_df['expected_wins'] = player_performance_df['total'] * 0.5\n",
    "   player_performance_df['deviation'] = player_performance_df['wins'] - \\\n",
    "       player_performance_df['expected_wins']\n",
    "   return player_performance_df.sort_values(by='total', ascending=False)"
   ]
  },
  {
   "cell_type": "code",
   "execution_count": 181,
   "metadata": {},
   "outputs": [],
   "source": [
    "more20 = calculate_player_performance_metrics(task_01_a[task_01_a['rank_diff_more20'] == 1])\n",
    "less20 = calculate_player_performance_metrics(task_01_a[task_01_a['rank_diff_more20'] == 0])"
   ]
  },
  {
   "cell_type": "code",
   "execution_count": 182,
   "metadata": {},
   "outputs": [
    {
     "data": {
      "text/html": [
       "<div>\n",
       "<style scoped>\n",
       "    .dataframe tbody tr th:only-of-type {\n",
       "        vertical-align: middle;\n",
       "    }\n",
       "\n",
       "    .dataframe tbody tr th {\n",
       "        vertical-align: top;\n",
       "    }\n",
       "\n",
       "    .dataframe thead th {\n",
       "        text-align: right;\n",
       "    }\n",
       "</style>\n",
       "<table border=\"1\" class=\"dataframe\">\n",
       "  <thead>\n",
       "    <tr style=\"text-align: right;\">\n",
       "      <th></th>\n",
       "      <th>player_id</th>\n",
       "      <th>wins</th>\n",
       "      <th>losses</th>\n",
       "      <th>total</th>\n",
       "      <th>expected_wins</th>\n",
       "      <th>deviation</th>\n",
       "    </tr>\n",
       "  </thead>\n",
       "  <tbody>\n",
       "    <tr>\n",
       "      <th>2028</th>\n",
       "      <td>103819</td>\n",
       "      <td>821</td>\n",
       "      <td>103</td>\n",
       "      <td>924</td>\n",
       "      <td>462.0</td>\n",
       "      <td>359.0</td>\n",
       "    </tr>\n",
       "    <tr>\n",
       "      <th>2397</th>\n",
       "      <td>104745</td>\n",
       "      <td>694</td>\n",
       "      <td>88</td>\n",
       "      <td>782</td>\n",
       "      <td>391.0</td>\n",
       "      <td>303.0</td>\n",
       "    </tr>\n",
       "    <tr>\n",
       "      <th>1150</th>\n",
       "      <td>101736</td>\n",
       "      <td>614</td>\n",
       "      <td>132</td>\n",
       "      <td>746</td>\n",
       "      <td>373.0</td>\n",
       "      <td>241.0</td>\n",
       "    </tr>\n",
       "    <tr>\n",
       "      <th>2461</th>\n",
       "      <td>104925</td>\n",
       "      <td>661</td>\n",
       "      <td>73</td>\n",
       "      <td>734</td>\n",
       "      <td>367.0</td>\n",
       "      <td>294.0</td>\n",
       "    </tr>\n",
       "    <tr>\n",
       "      <th>469</th>\n",
       "      <td>100656</td>\n",
       "      <td>626</td>\n",
       "      <td>86</td>\n",
       "      <td>712</td>\n",
       "      <td>356.0</td>\n",
       "      <td>270.0</td>\n",
       "    </tr>\n",
       "  </tbody>\n",
       "</table>\n",
       "</div>"
      ],
      "text/plain": [
       "      player_id  wins  losses  total  expected_wins  deviation\n",
       "2028     103819   821     103    924          462.0      359.0\n",
       "2397     104745   694      88    782          391.0      303.0\n",
       "1150     101736   614     132    746          373.0      241.0\n",
       "2461     104925   661      73    734          367.0      294.0\n",
       "469      100656   626      86    712          356.0      270.0"
      ]
     },
     "execution_count": 182,
     "metadata": {},
     "output_type": "execute_result"
    }
   ],
   "source": [
    "more20.head()"
   ]
  },
  {
   "cell_type": "code",
   "execution_count": 183,
   "metadata": {},
   "outputs": [
    {
     "data": {
      "text/html": [
       "<div>\n",
       "<style scoped>\n",
       "    .dataframe tbody tr th:only-of-type {\n",
       "        vertical-align: middle;\n",
       "    }\n",
       "\n",
       "    .dataframe tbody tr th {\n",
       "        vertical-align: top;\n",
       "    }\n",
       "\n",
       "    .dataframe thead th {\n",
       "        text-align: right;\n",
       "    }\n",
       "</style>\n",
       "<table border=\"1\" class=\"dataframe\">\n",
       "  <thead>\n",
       "    <tr style=\"text-align: right;\">\n",
       "      <th></th>\n",
       "      <th>player_id</th>\n",
       "      <th>wins</th>\n",
       "      <th>losses</th>\n",
       "      <th>total</th>\n",
       "      <th>expected_wins</th>\n",
       "      <th>deviation</th>\n",
       "    </tr>\n",
       "  </thead>\n",
       "  <tbody>\n",
       "    <tr>\n",
       "      <th>1157</th>\n",
       "      <td>103819</td>\n",
       "      <td>441</td>\n",
       "      <td>177</td>\n",
       "      <td>618</td>\n",
       "      <td>309.0</td>\n",
       "      <td>132.0</td>\n",
       "    </tr>\n",
       "    <tr>\n",
       "      <th>1330</th>\n",
       "      <td>104925</td>\n",
       "      <td>437</td>\n",
       "      <td>141</td>\n",
       "      <td>578</td>\n",
       "      <td>289.0</td>\n",
       "      <td>148.0</td>\n",
       "    </tr>\n",
       "    <tr>\n",
       "      <th>1306</th>\n",
       "      <td>104745</td>\n",
       "      <td>385</td>\n",
       "      <td>139</td>\n",
       "      <td>524</td>\n",
       "      <td>262.0</td>\n",
       "      <td>123.0</td>\n",
       "    </tr>\n",
       "    <tr>\n",
       "      <th>350</th>\n",
       "      <td>100656</td>\n",
       "      <td>325</td>\n",
       "      <td>145</td>\n",
       "      <td>470</td>\n",
       "      <td>235.0</td>\n",
       "      <td>90.0</td>\n",
       "    </tr>\n",
       "    <tr>\n",
       "      <th>176</th>\n",
       "      <td>100284</td>\n",
       "      <td>277</td>\n",
       "      <td>138</td>\n",
       "      <td>415</td>\n",
       "      <td>207.5</td>\n",
       "      <td>69.5</td>\n",
       "    </tr>\n",
       "  </tbody>\n",
       "</table>\n",
       "</div>"
      ],
      "text/plain": [
       "      player_id  wins  losses  total  expected_wins  deviation\n",
       "1157     103819   441     177    618          309.0      132.0\n",
       "1330     104925   437     141    578          289.0      148.0\n",
       "1306     104745   385     139    524          262.0      123.0\n",
       "350      100656   325     145    470          235.0       90.0\n",
       "176      100284   277     138    415          207.5       69.5"
      ]
     },
     "execution_count": 183,
     "metadata": {},
     "output_type": "execute_result"
    }
   ],
   "source": [
    "less20.head()"
   ]
  },
  {
   "cell_type": "code",
   "execution_count": 184,
   "metadata": {},
   "outputs": [
    {
     "name": "stdout",
     "output_type": "stream",
     "text": [
      "Cреднее отклонение для выборки more20: 7.23\n",
      "Cреднее отклонение для выборки less20: 2.97\n"
     ]
    }
   ],
   "source": [
    "# Рассчитать среднее отклонение для каждой выборки\n",
    "mean_dev_more20 = more20.deviation.abs().mean()\n",
    "mean_dev_less20 = less20.deviation.abs().mean()\n",
    "\n",
    "print(f'Cреднее отклонение для выборки more20: {round(mean_dev_more20, 2)}')\n",
    "print(f'Cреднее отклонение для выборки less20: {round(mean_dev_less20, 2)}')\n",
    "\n",
    "\n",
    "# Если в первой выборке (ранг выше более чем на 20 позиций) среднее отклонение значительно выше,\n",
    "# чем во второй выборке, то это подтверждает гипотезу о\n",
    "# большей вероятности выигрыша у игроков с более высоким рангом."
   ]
  },
  {
   "cell_type": "code",
   "execution_count": 185,
   "metadata": {},
   "outputs": [
    {
     "data": {
      "image/png": "[encoded data removed]",
      "text/plain": [
       "<Figure size 1000x1000 with 4 Axes>"
      ]
     },
     "metadata": {},
     "output_type": "display_data"
    }
   ],
   "source": [
    "plot_sample_data(more20.deviation, less20.deviation, title_a='more20', title_b='less20')"
   ]
  },
  {
   "cell_type": "markdown",
   "metadata": {},
   "source": [
    "### Выбор теста Шапиро-Уилка\n",
    "\n",
    "Если две выборки выделены из одной изначальной выборки, то эти две выборки будут связанными или зависимыми. Для оценки нормальности распределения я останавливаюсь на тесте Шапиро(Шапиро-Уилка), он является одним из наиболее чувствительных тестов на нормальность, не требует предварительных предположений о параметрах распределения или типе данных. Он может быть использован как для непрерывных, так и для дискретных данных (как в нашем случае)."
   ]
  },
  {
   "cell_type": "code",
   "execution_count": 186,
   "metadata": {},
   "outputs": [
    {
     "name": "stdout",
     "output_type": "stream",
     "text": [
      "alpha: 0.05\n",
      "p-value sample A 0.0\n",
      "p-value sample B 0.0\n",
      "Отвергаем нулевую гипотезу H0: Распределения в обеих группах нормальные\n",
      "Альтернативная гипотеза. H1: Распределение в одной или обеих группах отлично от нормального\n"
     ]
    }
   ],
   "source": [
    "# Статистический тест на нормальность\n",
    "\n",
    "shapiro_test (more20.deviation, less20.deviation, alpha=0.05)"
   ]
  },
  {
   "cell_type": "markdown",
   "metadata": {},
   "source": [
    "#### Выбор теста Мана-Уитни\n",
    "Нулевая гипотеза (H0): \n",
    "Нет статистически значимой разницы в медианах отклонений между двумя независимыми выборками. \n",
    "Это означает, что любые различия между выборками могут быть результатом случайности.\n",
    "\n",
    "Альтернативная гипотеза (H1): \n",
    "Существует статистически значимая разница в медианах отклонений между двумя независимыми выборками. \n",
    "Это указывает на то, что наблюдаемые различия маловероятно являются случайными и что \n",
    "одна из групп имеет тенденцию к более высоким или низким отклонениям.\n",
    "\n",
    "выбора параметра alternative:\n",
    "\n",
    "* 'two-sided' используется, если вы хотите проверить, отличаются ли выборки вообще (в любом направлении).\n",
    "* 'less' используется, если вы предполагаете, что медиана первой выборки меньше медианы второй.\n",
    "* 'greater' используется, если вы предполагаете, что медиана первой выборки больше медианы второй."
   ]
  },
  {
   "cell_type": "code",
   "execution_count": 187,
   "metadata": {},
   "outputs": [
    {
     "name": "stdout",
     "output_type": "stream",
     "text": [
      "U-статистика: 2221913.5\n",
      "p-значение: 1.0\n",
      "Нулевая гипотеза (вероятность победы не выше в группе с разницей рангов >20):Среднее отклонений для more20 не больше медианы для выборки less20\n",
      "Альтернативная гипотеза (вероятность победы выше в группе с разницей рангов >20):Среднее отклонений для more20 больше медианы для выборки less20\n",
      "Не отвергаем нулевую гипотезу: Среднее отклонений для more20 не больше медианы для выборки less20 при a = 0.05.\n"
     ]
    }
   ],
   "source": [
    "# Тест Мана-Уитни\n",
    "sample_a = more20.deviation\n",
    "sample_b = less20.deviation\n",
    "\n",
    "# Уровень значимости\n",
    "alpha = 0.05\n",
    "\n",
    "# Проведение одностороннего U-теста Манна-Уитни\n",
    "stat, p = mannwhitneyu(sample_a, sample_b, alternative='greater')\n",
    "\n",
    "# Вывод результатов\n",
    "print(f'U-статистика: {stat}')\n",
    "print(f'p-значение: {p}')\n",
    "\n",
    "# Формулировка гипотез\n",
    "H0 = 'Среднее отклонений для more20 не больше медианы для выборки less20'\n",
    "H1 = 'Среднее отклонений для more20 больше медианы для выборки less20'\n",
    "print(\n",
    "    f'Нулевая гипотеза (вероятность победы не выше в группе с разницей рангов >20):{H0}')\n",
    "print(\n",
    "    f'Альтернативная гипотеза (вероятность победы выше в группе с разницей рангов >20):{H1}')\n",
    "\n",
    "# Сравнение p-значения с уровнем значимости\n",
    "if p < alpha:\n",
    "    print(f'Отвергаем нулевую гипотезу: {H0} при a = {alpha}.')\n",
    "    print(f'Принимаем альтернативную гипотезу: {H1} при a = {alpha}.')\n",
    "else:\n",
    "    print(f'Не отвергаем нулевую гипотезу: {H0} при a = {alpha}.')"
   ]
  },
  {
   "cell_type": "markdown",
   "metadata": {},
   "source": [
    "### Вывод\n",
    "\n",
    "* Не отвергаем нулевую гипотезу: ***Нет статистически значимой разницы в медианах отклонений между этими двумя независимыми выборками***\n",
    "\n",
    "***"
   ]
  },
  {
   "cell_type": "markdown",
   "metadata": {},
   "source": [
    "### Задача 1б\n",
    "\n",
    ">Если ранг игрока находится в окне +-5 позиций, то вероятность победы будет значительно отличаться от гипотезы из предыдущего случая. Для проверки статистической значимости выборку можно сделать как среднее по годам (например, с 1980 по 2022г.). Подумайте, как правильно сформировать репрезентативную выборку."
   ]
  },
  {
   "cell_type": "markdown",
   "metadata": {},
   "source": [
    "Задача аналогична 1а, но нужно сделать выборку для случая различия рангов на 5 позиций и сравнить среднее количество побед между двумя группами."
   ]
  },
  {
   "cell_type": "code",
   "execution_count": 188,
   "metadata": {},
   "outputs": [
    {
     "data": {
      "text/plain": [
       "window5\n",
       "out    133840\n",
       "in      10020\n",
       "Name: count, dtype: int64"
      ]
     },
     "execution_count": 188,
     "metadata": {},
     "output_type": "execute_result"
    }
   ],
   "source": [
    "# Считываем данные, создаем датафрейм, удаляем пропуски\n",
    "combined_df = pd.read_csv('combined_atp_matches.csv')\n",
    "task_01_b = combined_df[['year', 'match_num', 'winner_id',\n",
    "                         'winner_rank', 'loser_id', 'loser_rank']].dropna()\n",
    "\n",
    "# Создание бинарного признака window5, указывающего,\n",
    "# попадает ли разница рангов в интервал [-5, 5]\n",
    "task_01_b['window5'] = task_01_b.apply(\n",
    "    lambda row: 'in' if \n",
    "    -5 <= (row['winner_rank'] - row['loser_rank']) <= 5 else 'out',\n",
    "    axis=1)\n",
    "\n",
    "# подсчет вхождений\n",
    "task_01_b.window5.value_counts()"
   ]
  },
  {
   "cell_type": "code",
   "execution_count": 189,
   "metadata": {},
   "outputs": [
    {
     "name": "stdout",
     "output_type": "stream",
     "text": [
      "Количество строк: 143860\n",
      "Количество столбцов: 7\n",
      "Количество пропусков в столбцах:\n",
      "year           0\n",
      "match_num      0\n",
      "winner_id      0\n",
      "winner_rank    0\n",
      "loser_id       0\n",
      "loser_rank     0\n",
      "window5        0\n",
      "dtype: int64\n",
      "Количество явных дубликатов: 57\n"
     ]
    }
   ],
   "source": [
    "dataframe_summary(task_01_b)"
   ]
  },
  {
   "cell_type": "code",
   "execution_count": 190,
   "metadata": {},
   "outputs": [
    {
     "data": {
      "text/html": [
       "<div>\n",
       "<style scoped>\n",
       "    .dataframe tbody tr th:only-of-type {\n",
       "        vertical-align: middle;\n",
       "    }\n",
       "\n",
       "    .dataframe tbody tr th {\n",
       "        vertical-align: top;\n",
       "    }\n",
       "\n",
       "    .dataframe thead th {\n",
       "        text-align: right;\n",
       "    }\n",
       "</style>\n",
       "<table border=\"1\" class=\"dataframe\">\n",
       "  <thead>\n",
       "    <tr style=\"text-align: right;\">\n",
       "      <th></th>\n",
       "      <th>year</th>\n",
       "      <th>match_num</th>\n",
       "      <th>winner_id</th>\n",
       "      <th>winner_rank</th>\n",
       "      <th>loser_id</th>\n",
       "      <th>loser_rank</th>\n",
       "      <th>window5</th>\n",
       "    </tr>\n",
       "  </thead>\n",
       "  <tbody>\n",
       "    <tr>\n",
       "      <th>18086</th>\n",
       "      <td>1973</td>\n",
       "      <td>1</td>\n",
       "      <td>100119</td>\n",
       "      <td>1.0</td>\n",
       "      <td>100129</td>\n",
       "      <td>88.0</td>\n",
       "      <td>out</td>\n",
       "    </tr>\n",
       "    <tr>\n",
       "      <th>18087</th>\n",
       "      <td>1973</td>\n",
       "      <td>2</td>\n",
       "      <td>100304</td>\n",
       "      <td>193.0</td>\n",
       "      <td>100067</td>\n",
       "      <td>71.0</td>\n",
       "      <td>out</td>\n",
       "    </tr>\n",
       "    <tr>\n",
       "      <th>18088</th>\n",
       "      <td>1973</td>\n",
       "      <td>3</td>\n",
       "      <td>100135</td>\n",
       "      <td>39.0</td>\n",
       "      <td>100376</td>\n",
       "      <td>118.0</td>\n",
       "      <td>out</td>\n",
       "    </tr>\n",
       "    <tr>\n",
       "      <th>18089</th>\n",
       "      <td>1973</td>\n",
       "      <td>4</td>\n",
       "      <td>100121</td>\n",
       "      <td>42.0</td>\n",
       "      <td>100075</td>\n",
       "      <td>135.0</td>\n",
       "      <td>out</td>\n",
       "    </tr>\n",
       "    <tr>\n",
       "      <th>18090</th>\n",
       "      <td>1973</td>\n",
       "      <td>5</td>\n",
       "      <td>100284</td>\n",
       "      <td>4.0</td>\n",
       "      <td>100058</td>\n",
       "      <td>11.0</td>\n",
       "      <td>out</td>\n",
       "    </tr>\n",
       "  </tbody>\n",
       "</table>\n",
       "</div>"
      ],
      "text/plain": [
       "       year  match_num  winner_id  winner_rank  loser_id  loser_rank window5\n",
       "18086  1973          1     100119          1.0    100129        88.0     out\n",
       "18087  1973          2     100304        193.0    100067        71.0     out\n",
       "18088  1973          3     100135         39.0    100376       118.0     out\n",
       "18089  1973          4     100121         42.0    100075       135.0     out\n",
       "18090  1973          5     100284          4.0    100058        11.0     out"
      ]
     },
     "execution_count": 190,
     "metadata": {},
     "output_type": "execute_result"
    }
   ],
   "source": [
    "task_01_b.head()"
   ]
  },
  {
   "cell_type": "code",
   "execution_count": 191,
   "metadata": {},
   "outputs": [],
   "source": [
    "# Фильтрация записей с 1980 по 2022 год\n",
    "filtered_df = task_01_b[(task_01_b['year'] >= 1984) &\n",
    "                        (task_01_b['year'] <= 2022)]\n",
    "\n",
    "# Группировка по 'winner_id', 'year' и 'window5', подсчет количества побед\n",
    "win_counts = filtered_df.groupby(\n",
    "    ['winner_id', 'year', 'window5']).size().reset_index(name='win_count')\n",
    "\n",
    "# Считаем среднее количество побед\n",
    "average_wins = win_counts.groupby(['year', 'window5'])[\n",
    "    'win_count'].mean().reset_index()\n",
    "\n",
    "# Разделение среднего количества побед на группы 'in' и 'out'\n",
    "average_wins_in = average_wins[average_wins['window5'] == 'in'].reset_index(\n",
    "    drop=True)\n",
    "average_wins_out = average_wins[average_wins['window5'] == 'out'].reset_index(\n",
    "    drop=True)"
   ]
  },
  {
   "cell_type": "code",
   "execution_count": 192,
   "metadata": {},
   "outputs": [
    {
     "data": {
      "text/html": [
       "<div>\n",
       "<style scoped>\n",
       "    .dataframe tbody tr th:only-of-type {\n",
       "        vertical-align: middle;\n",
       "    }\n",
       "\n",
       "    .dataframe tbody tr th {\n",
       "        vertical-align: top;\n",
       "    }\n",
       "\n",
       "    .dataframe thead th {\n",
       "        text-align: right;\n",
       "    }\n",
       "</style>\n",
       "<table border=\"1\" class=\"dataframe\">\n",
       "  <thead>\n",
       "    <tr style=\"text-align: right;\">\n",
       "      <th></th>\n",
       "      <th>winner_id</th>\n",
       "      <th>year</th>\n",
       "      <th>window5</th>\n",
       "      <th>win_count</th>\n",
       "    </tr>\n",
       "  </thead>\n",
       "  <tbody>\n",
       "    <tr>\n",
       "      <th>0</th>\n",
       "      <td>100119</td>\n",
       "      <td>1985</td>\n",
       "      <td>out</td>\n",
       "      <td>1</td>\n",
       "    </tr>\n",
       "    <tr>\n",
       "      <th>1</th>\n",
       "      <td>100144</td>\n",
       "      <td>1984</td>\n",
       "      <td>out</td>\n",
       "      <td>1</td>\n",
       "    </tr>\n",
       "    <tr>\n",
       "      <th>2</th>\n",
       "      <td>100144</td>\n",
       "      <td>1985</td>\n",
       "      <td>out</td>\n",
       "      <td>1</td>\n",
       "    </tr>\n",
       "    <tr>\n",
       "      <th>3</th>\n",
       "      <td>100179</td>\n",
       "      <td>1984</td>\n",
       "      <td>out</td>\n",
       "      <td>2</td>\n",
       "    </tr>\n",
       "    <tr>\n",
       "      <th>4</th>\n",
       "      <td>100179</td>\n",
       "      <td>1985</td>\n",
       "      <td>out</td>\n",
       "      <td>1</td>\n",
       "    </tr>\n",
       "    <tr>\n",
       "      <th>5</th>\n",
       "      <td>100221</td>\n",
       "      <td>1986</td>\n",
       "      <td>out</td>\n",
       "      <td>2</td>\n",
       "    </tr>\n",
       "    <tr>\n",
       "      <th>6</th>\n",
       "      <td>100240</td>\n",
       "      <td>1984</td>\n",
       "      <td>out</td>\n",
       "      <td>3</td>\n",
       "    </tr>\n",
       "    <tr>\n",
       "      <th>7</th>\n",
       "      <td>100240</td>\n",
       "      <td>1985</td>\n",
       "      <td>out</td>\n",
       "      <td>4</td>\n",
       "    </tr>\n",
       "    <tr>\n",
       "      <th>8</th>\n",
       "      <td>100240</td>\n",
       "      <td>1986</td>\n",
       "      <td>out</td>\n",
       "      <td>3</td>\n",
       "    </tr>\n",
       "    <tr>\n",
       "      <th>9</th>\n",
       "      <td>100244</td>\n",
       "      <td>1984</td>\n",
       "      <td>in</td>\n",
       "      <td>1</td>\n",
       "    </tr>\n",
       "    <tr>\n",
       "      <th>10</th>\n",
       "      <td>100244</td>\n",
       "      <td>1984</td>\n",
       "      <td>out</td>\n",
       "      <td>7</td>\n",
       "    </tr>\n",
       "    <tr>\n",
       "      <th>11</th>\n",
       "      <td>100252</td>\n",
       "      <td>1984</td>\n",
       "      <td>in</td>\n",
       "      <td>1</td>\n",
       "    </tr>\n",
       "    <tr>\n",
       "      <th>12</th>\n",
       "      <td>100252</td>\n",
       "      <td>1984</td>\n",
       "      <td>out</td>\n",
       "      <td>12</td>\n",
       "    </tr>\n",
       "    <tr>\n",
       "      <th>13</th>\n",
       "      <td>100252</td>\n",
       "      <td>1985</td>\n",
       "      <td>out</td>\n",
       "      <td>8</td>\n",
       "    </tr>\n",
       "    <tr>\n",
       "      <th>14</th>\n",
       "      <td>100252</td>\n",
       "      <td>1986</td>\n",
       "      <td>out</td>\n",
       "      <td>1</td>\n",
       "    </tr>\n",
       "    <tr>\n",
       "      <th>15</th>\n",
       "      <td>100253</td>\n",
       "      <td>1984</td>\n",
       "      <td>in</td>\n",
       "      <td>1</td>\n",
       "    </tr>\n",
       "    <tr>\n",
       "      <th>16</th>\n",
       "      <td>100253</td>\n",
       "      <td>1984</td>\n",
       "      <td>out</td>\n",
       "      <td>17</td>\n",
       "    </tr>\n",
       "    <tr>\n",
       "      <th>17</th>\n",
       "      <td>100253</td>\n",
       "      <td>1985</td>\n",
       "      <td>in</td>\n",
       "      <td>1</td>\n",
       "    </tr>\n",
       "    <tr>\n",
       "      <th>18</th>\n",
       "      <td>100253</td>\n",
       "      <td>1985</td>\n",
       "      <td>out</td>\n",
       "      <td>16</td>\n",
       "    </tr>\n",
       "    <tr>\n",
       "      <th>19</th>\n",
       "      <td>100253</td>\n",
       "      <td>1986</td>\n",
       "      <td>out</td>\n",
       "      <td>5</td>\n",
       "    </tr>\n",
       "  </tbody>\n",
       "</table>\n",
       "</div>"
      ],
      "text/plain": [
       "    winner_id  year window5  win_count\n",
       "0      100119  1985     out          1\n",
       "1      100144  1984     out          1\n",
       "2      100144  1985     out          1\n",
       "3      100179  1984     out          2\n",
       "4      100179  1985     out          1\n",
       "5      100221  1986     out          2\n",
       "6      100240  1984     out          3\n",
       "7      100240  1985     out          4\n",
       "8      100240  1986     out          3\n",
       "9      100244  1984      in          1\n",
       "10     100244  1984     out          7\n",
       "11     100252  1984      in          1\n",
       "12     100252  1984     out         12\n",
       "13     100252  1985     out          8\n",
       "14     100252  1986     out          1\n",
       "15     100253  1984      in          1\n",
       "16     100253  1984     out         17\n",
       "17     100253  1985      in          1\n",
       "18     100253  1985     out         16\n",
       "19     100253  1986     out          5"
      ]
     },
     "execution_count": 192,
     "metadata": {},
     "output_type": "execute_result"
    }
   ],
   "source": [
    "win_counts.head(20)"
   ]
  },
  {
   "cell_type": "code",
   "execution_count": 193,
   "metadata": {},
   "outputs": [
    {
     "name": "stdout",
     "output_type": "stream",
     "text": [
      "Количество строк: 39\n",
      "Количество столбцов: 3\n",
      "Количество пропусков в столбцах:\n",
      "year         0\n",
      "window5      0\n",
      "win_count    0\n",
      "dtype: int64\n",
      "Количество явных дубликатов: 0\n"
     ]
    },
    {
     "data": {
      "text/html": [
       "<div>\n",
       "<style scoped>\n",
       "    .dataframe tbody tr th:only-of-type {\n",
       "        vertical-align: middle;\n",
       "    }\n",
       "\n",
       "    .dataframe tbody tr th {\n",
       "        vertical-align: top;\n",
       "    }\n",
       "\n",
       "    .dataframe thead th {\n",
       "        text-align: right;\n",
       "    }\n",
       "</style>\n",
       "<table border=\"1\" class=\"dataframe\">\n",
       "  <thead>\n",
       "    <tr style=\"text-align: right;\">\n",
       "      <th></th>\n",
       "      <th>year</th>\n",
       "      <th>window5</th>\n",
       "      <th>win_count</th>\n",
       "    </tr>\n",
       "  </thead>\n",
       "  <tbody>\n",
       "    <tr>\n",
       "      <th>0</th>\n",
       "      <td>1984</td>\n",
       "      <td>in</td>\n",
       "      <td>1.873563</td>\n",
       "    </tr>\n",
       "    <tr>\n",
       "      <th>1</th>\n",
       "      <td>1985</td>\n",
       "      <td>in</td>\n",
       "      <td>1.966292</td>\n",
       "    </tr>\n",
       "    <tr>\n",
       "      <th>2</th>\n",
       "      <td>1986</td>\n",
       "      <td>in</td>\n",
       "      <td>2.144330</td>\n",
       "    </tr>\n",
       "    <tr>\n",
       "      <th>3</th>\n",
       "      <td>1987</td>\n",
       "      <td>in</td>\n",
       "      <td>1.938776</td>\n",
       "    </tr>\n",
       "    <tr>\n",
       "      <th>4</th>\n",
       "      <td>1988</td>\n",
       "      <td>in</td>\n",
       "      <td>1.803738</td>\n",
       "    </tr>\n",
       "  </tbody>\n",
       "</table>\n",
       "</div>"
      ],
      "text/plain": [
       "   year window5  win_count\n",
       "0  1984      in   1.873563\n",
       "1  1985      in   1.966292\n",
       "2  1986      in   2.144330\n",
       "3  1987      in   1.938776\n",
       "4  1988      in   1.803738"
      ]
     },
     "execution_count": 193,
     "metadata": {},
     "output_type": "execute_result"
    }
   ],
   "source": [
    "dataframe_summary(average_wins_in)\n",
    "average_wins_in.head()"
   ]
  },
  {
   "cell_type": "code",
   "execution_count": 194,
   "metadata": {},
   "outputs": [
    {
     "name": "stdout",
     "output_type": "stream",
     "text": [
      "Количество строк: 39\n",
      "Количество столбцов: 3\n",
      "Количество пропусков в столбцах:\n",
      "year         0\n",
      "window5      0\n",
      "win_count    0\n",
      "dtype: int64\n",
      "Количество явных дубликатов: 0\n"
     ]
    },
    {
     "data": {
      "text/html": [
       "<div>\n",
       "<style scoped>\n",
       "    .dataframe tbody tr th:only-of-type {\n",
       "        vertical-align: middle;\n",
       "    }\n",
       "\n",
       "    .dataframe tbody tr th {\n",
       "        vertical-align: top;\n",
       "    }\n",
       "\n",
       "    .dataframe thead th {\n",
       "        text-align: right;\n",
       "    }\n",
       "</style>\n",
       "<table border=\"1\" class=\"dataframe\">\n",
       "  <thead>\n",
       "    <tr style=\"text-align: right;\">\n",
       "      <th></th>\n",
       "      <th>year</th>\n",
       "      <th>window5</th>\n",
       "      <th>win_count</th>\n",
       "    </tr>\n",
       "  </thead>\n",
       "  <tbody>\n",
       "    <tr>\n",
       "      <th>0</th>\n",
       "      <td>1984</td>\n",
       "      <td>out</td>\n",
       "      <td>9.740000</td>\n",
       "    </tr>\n",
       "    <tr>\n",
       "      <th>1</th>\n",
       "      <td>1985</td>\n",
       "      <td>out</td>\n",
       "      <td>10.194719</td>\n",
       "    </tr>\n",
       "    <tr>\n",
       "      <th>2</th>\n",
       "      <td>1986</td>\n",
       "      <td>out</td>\n",
       "      <td>9.925170</td>\n",
       "    </tr>\n",
       "    <tr>\n",
       "      <th>3</th>\n",
       "      <td>1987</td>\n",
       "      <td>out</td>\n",
       "      <td>10.261146</td>\n",
       "    </tr>\n",
       "    <tr>\n",
       "      <th>4</th>\n",
       "      <td>1988</td>\n",
       "      <td>out</td>\n",
       "      <td>9.845930</td>\n",
       "    </tr>\n",
       "  </tbody>\n",
       "</table>\n",
       "</div>"
      ],
      "text/plain": [
       "   year window5  win_count\n",
       "0  1984     out   9.740000\n",
       "1  1985     out  10.194719\n",
       "2  1986     out   9.925170\n",
       "3  1987     out  10.261146\n",
       "4  1988     out   9.845930"
      ]
     },
     "execution_count": 194,
     "metadata": {},
     "output_type": "execute_result"
    }
   ],
   "source": [
    "dataframe_summary(average_wins_out)\n",
    "average_wins_out.head()"
   ]
  },
  {
   "cell_type": "code",
   "execution_count": 195,
   "metadata": {},
   "outputs": [
    {
     "data": {
      "image/png": "[encoded data removed]",
      "text/plain": [
       "<Figure size 1000x1000 with 4 Axes>"
      ]
     },
     "metadata": {},
     "output_type": "display_data"
    }
   ],
   "source": [
    "# Графическое представление распределений признака `win_count` для каждой выборки\n",
    "plot_sample_data(average_wins_in.win_count,average_wins_out.win_count, title_a='in5wind', title_b='out')"
   ]
  },
  {
   "cell_type": "code",
   "execution_count": 196,
   "metadata": {},
   "outputs": [
    {
     "name": "stdout",
     "output_type": "stream",
     "text": [
      "alpha: 0.05\n",
      "p-value sample A 0.57\n",
      "p-value sample B 0.0\n",
      "Отвергаем нулевую гипотезу H0: Распределения в обеих группах нормальные\n",
      "Альтернативная гипотеза. H1: Распределение в одной или обеих группах отлично от нормального\n"
     ]
    }
   ],
   "source": [
    "# Статистический тест на нормальность, используем Шапиро-Уилка\n",
    "shapiro_test(average_wins_in.win_count, average_wins_out.win_count, alpha=0.05)"
   ]
  },
  {
   "cell_type": "code",
   "execution_count": 197,
   "metadata": {},
   "outputs": [
    {
     "data": {
      "text/plain": [
       "2.299102049249689"
      ]
     },
     "execution_count": 197,
     "metadata": {},
     "output_type": "execute_result"
    }
   ],
   "source": [
    "# Среднее количество побед в группе in5window\n",
    "average_wins_in.win_count.mean()"
   ]
  },
  {
   "cell_type": "code",
   "execution_count": 198,
   "metadata": {},
   "outputs": [
    {
     "data": {
      "text/plain": [
       "10.389651533600555"
      ]
     },
     "execution_count": 198,
     "metadata": {},
     "output_type": "execute_result"
    }
   ],
   "source": [
    "# Среднее количество побед в группе out\n",
    "average_wins_out.win_count.mean()"
   ]
  },
  {
   "cell_type": "markdown",
   "metadata": {},
   "source": [
    "Статистический критерий.\n",
    "Тест Манна-Уитни (U-тест)` выбран для сравнения средних значений выборок, так как он подходит для независимых выборок небольшого размера и не предполагает нормальное распределение данных. Также, он позволяет провести одностороннюю проверку гипотезы о том, что среднее значение в одной выборке больше среднего значения в другой выборке."
   ]
  },
  {
   "cell_type": "code",
   "execution_count": 199,
   "metadata": {},
   "outputs": [
    {
     "name": "stdout",
     "output_type": "stream",
     "text": [
      "U-статистика: 0.0\n",
      "p-значение: 1.5393187778399125e-14\n",
      "Отвергаем нулевую гипотезу: Среднее количество побед в группе out не больше среднего в группе in\n",
      "Принимаем альтернативную гипотезу: Среднее количество побед в группе out больше среднего в группе in\n"
     ]
    }
   ],
   "source": [
    "# Формулировка гипотез\n",
    "H0 = 'Среднее количество побед в группе out не больше среднего в группе in'\n",
    "H1 = 'Среднее количество побед в группе out больше среднего в группе in'\n",
    "\n",
    "# Уровень значимости\n",
    "alpha = 0.05\n",
    "\n",
    "# Проведение одностороннего U-теста Манна-Уитни\n",
    "stat, p = mannwhitneyu(average_wins_in.win_count,\n",
    "                       average_wins_out.win_count, alternative='less')\n",
    "\n",
    "# Вывод результатов\n",
    "print(f'U-статистика: {stat}')\n",
    "print(f'p-значение: {p}')\n",
    "\n",
    "# Сравнение p-значения с уровнем значимости\n",
    "if p < alpha:\n",
    "    print(f'Отвергаем нулевую гипотезу: {H0}')\n",
    "    print(f'Принимаем альтернативную гипотезу: {H1}')\n",
    "else:\n",
    "    print(f'Принимаем нулевую гипотезу: {H0}')"
   ]
  },
  {
   "cell_type": "markdown",
   "metadata": {},
   "source": [
    "#### Вывод\n",
    "\n",
    "Если ранг игрока находится в окне +-5 позиций, то ***вероятность победы будет значительно отличаться (вероятность победы ниже)*** от гипотезы из предыдущего случая (там разницы нет).\n",
    "\n",
    "***"
   ]
  },
  {
   "cell_type": "markdown",
   "metadata": {},
   "source": [
    "## Задача 2\n",
    "\n",
    ">Правда ли, что среднее количество сетов, которое необходимо любому игроку для победы в матче, сокращается со временем? Разбейте данные на две группы — с 1980 до 2001 гг. и 2002-2022 гг. Как изменилось среднее количество сетов, которое победитель затратил на игру? Является ли разница средних этих двух выборок статистически значимой? Выбор статистического теста обоснуйте.\n",
    "\n",
    "Для расчета количества сетов можно использовать признак `score`"
   ]
  },
  {
   "cell_type": "code",
   "execution_count": 200,
   "metadata": {},
   "outputs": [
    {
     "name": "stdout",
     "output_type": "stream",
     "text": [
      "Образец для количества сетов: 0\n"
     ]
    },
    {
     "data": {
      "text/html": [
       "<div>\n",
       "<style scoped>\n",
       "    .dataframe tbody tr th:only-of-type {\n",
       "        vertical-align: middle;\n",
       "    }\n",
       "\n",
       "    .dataframe tbody tr th {\n",
       "        vertical-align: top;\n",
       "    }\n",
       "\n",
       "    .dataframe thead th {\n",
       "        text-align: right;\n",
       "    }\n",
       "</style>\n",
       "<table border=\"1\" class=\"dataframe\">\n",
       "  <thead>\n",
       "    <tr style=\"text-align: right;\">\n",
       "      <th></th>\n",
       "      <th>year</th>\n",
       "      <th>score</th>\n",
       "      <th>winner_id</th>\n",
       "      <th>sets_count</th>\n",
       "    </tr>\n",
       "  </thead>\n",
       "  <tbody>\n",
       "    <tr>\n",
       "      <th>129</th>\n",
       "      <td>1968</td>\n",
       "      <td>W/O</td>\n",
       "      <td>100099</td>\n",
       "      <td>0</td>\n",
       "    </tr>\n",
       "  </tbody>\n",
       "</table>\n",
       "</div>"
      ],
      "text/plain": [
       "     year score  winner_id  sets_count\n",
       "129  1968   W/O     100099           0"
      ]
     },
     "metadata": {},
     "output_type": "display_data"
    },
    {
     "name": "stdout",
     "output_type": "stream",
     "text": [
      "Образец для количества сетов: 1\n"
     ]
    },
    {
     "data": {
      "text/html": [
       "<div>\n",
       "<style scoped>\n",
       "    .dataframe tbody tr th:only-of-type {\n",
       "        vertical-align: middle;\n",
       "    }\n",
       "\n",
       "    .dataframe tbody tr th {\n",
       "        vertical-align: top;\n",
       "    }\n",
       "\n",
       "    .dataframe thead th {\n",
       "        text-align: right;\n",
       "    }\n",
       "</style>\n",
       "<table border=\"1\" class=\"dataframe\">\n",
       "  <thead>\n",
       "    <tr style=\"text-align: right;\">\n",
       "      <th></th>\n",
       "      <th>year</th>\n",
       "      <th>score</th>\n",
       "      <th>winner_id</th>\n",
       "      <th>sets_count</th>\n",
       "    </tr>\n",
       "  </thead>\n",
       "  <tbody>\n",
       "    <tr>\n",
       "      <th>67</th>\n",
       "      <td>1968</td>\n",
       "      <td>1-0 RET</td>\n",
       "      <td>109825</td>\n",
       "      <td>1</td>\n",
       "    </tr>\n",
       "  </tbody>\n",
       "</table>\n",
       "</div>"
      ],
      "text/plain": [
       "    year    score  winner_id  sets_count\n",
       "67  1968  1-0 RET     109825           1"
      ]
     },
     "metadata": {},
     "output_type": "display_data"
    },
    {
     "name": "stdout",
     "output_type": "stream",
     "text": [
      "Образец для количества сетов: 2\n"
     ]
    },
    {
     "data": {
      "text/html": [
       "<div>\n",
       "<style scoped>\n",
       "    .dataframe tbody tr th:only-of-type {\n",
       "        vertical-align: middle;\n",
       "    }\n",
       "\n",
       "    .dataframe tbody tr th {\n",
       "        vertical-align: top;\n",
       "    }\n",
       "\n",
       "    .dataframe thead th {\n",
       "        text-align: right;\n",
       "    }\n",
       "</style>\n",
       "<table border=\"1\" class=\"dataframe\">\n",
       "  <thead>\n",
       "    <tr style=\"text-align: right;\">\n",
       "      <th></th>\n",
       "      <th>year</th>\n",
       "      <th>score</th>\n",
       "      <th>winner_id</th>\n",
       "      <th>sets_count</th>\n",
       "    </tr>\n",
       "  </thead>\n",
       "  <tbody>\n",
       "    <tr>\n",
       "      <th>0</th>\n",
       "      <td>1968</td>\n",
       "      <td>6-1 7-5</td>\n",
       "      <td>112411</td>\n",
       "      <td>2</td>\n",
       "    </tr>\n",
       "  </tbody>\n",
       "</table>\n",
       "</div>"
      ],
      "text/plain": [
       "   year    score  winner_id  sets_count\n",
       "0  1968  6-1 7-5     112411           2"
      ]
     },
     "metadata": {},
     "output_type": "display_data"
    },
    {
     "name": "stdout",
     "output_type": "stream",
     "text": [
      "Образец для количества сетов: 3\n"
     ]
    },
    {
     "data": {
      "text/html": [
       "<div>\n",
       "<style scoped>\n",
       "    .dataframe tbody tr th:only-of-type {\n",
       "        vertical-align: middle;\n",
       "    }\n",
       "\n",
       "    .dataframe tbody tr th {\n",
       "        vertical-align: top;\n",
       "    }\n",
       "\n",
       "    .dataframe thead th {\n",
       "        text-align: right;\n",
       "    }\n",
       "</style>\n",
       "<table border=\"1\" class=\"dataframe\">\n",
       "  <thead>\n",
       "    <tr style=\"text-align: right;\">\n",
       "      <th></th>\n",
       "      <th>year</th>\n",
       "      <th>score</th>\n",
       "      <th>winner_id</th>\n",
       "      <th>sets_count</th>\n",
       "    </tr>\n",
       "  </thead>\n",
       "  <tbody>\n",
       "    <tr>\n",
       "      <th>5</th>\n",
       "      <td>1968</td>\n",
       "      <td>4-6 8-6 6-2</td>\n",
       "      <td>207073</td>\n",
       "      <td>3</td>\n",
       "    </tr>\n",
       "  </tbody>\n",
       "</table>\n",
       "</div>"
      ],
      "text/plain": [
       "   year        score  winner_id  sets_count\n",
       "5  1968  4-6 8-6 6-2     207073           3"
      ]
     },
     "metadata": {},
     "output_type": "display_data"
    },
    {
     "name": "stdout",
     "output_type": "stream",
     "text": [
      "Образец для количества сетов: 4\n"
     ]
    },
    {
     "data": {
      "text/html": [
       "<div>\n",
       "<style scoped>\n",
       "    .dataframe tbody tr th:only-of-type {\n",
       "        vertical-align: middle;\n",
       "    }\n",
       "\n",
       "    .dataframe tbody tr th {\n",
       "        vertical-align: top;\n",
       "    }\n",
       "\n",
       "    .dataframe thead th {\n",
       "        text-align: right;\n",
       "    }\n",
       "</style>\n",
       "<table border=\"1\" class=\"dataframe\">\n",
       "  <thead>\n",
       "    <tr style=\"text-align: right;\">\n",
       "      <th></th>\n",
       "      <th>year</th>\n",
       "      <th>score</th>\n",
       "      <th>winner_id</th>\n",
       "      <th>sets_count</th>\n",
       "    </tr>\n",
       "  </thead>\n",
       "  <tbody>\n",
       "    <tr>\n",
       "      <th>32</th>\n",
       "      <td>1968</td>\n",
       "      <td>6-3 6-2 0-6 6-3</td>\n",
       "      <td>100099</td>\n",
       "      <td>4</td>\n",
       "    </tr>\n",
       "  </tbody>\n",
       "</table>\n",
       "</div>"
      ],
      "text/plain": [
       "    year            score  winner_id  sets_count\n",
       "32  1968  6-3 6-2 0-6 6-3     100099           4"
      ]
     },
     "metadata": {},
     "output_type": "display_data"
    },
    {
     "name": "stdout",
     "output_type": "stream",
     "text": [
      "Образец для количества сетов: 5\n"
     ]
    },
    {
     "data": {
      "text/html": [
       "<div>\n",
       "<style scoped>\n",
       "    .dataframe tbody tr th:only-of-type {\n",
       "        vertical-align: middle;\n",
       "    }\n",
       "\n",
       "    .dataframe tbody tr th {\n",
       "        vertical-align: top;\n",
       "    }\n",
       "\n",
       "    .dataframe thead th {\n",
       "        text-align: right;\n",
       "    }\n",
       "</style>\n",
       "<table border=\"1\" class=\"dataframe\">\n",
       "  <thead>\n",
       "    <tr style=\"text-align: right;\">\n",
       "      <th></th>\n",
       "      <th>year</th>\n",
       "      <th>score</th>\n",
       "      <th>winner_id</th>\n",
       "      <th>sets_count</th>\n",
       "    </tr>\n",
       "  </thead>\n",
       "  <tbody>\n",
       "    <tr>\n",
       "      <th>43</th>\n",
       "      <td>1968</td>\n",
       "      <td>6-0 2-6 6-3 4-6 7-5</td>\n",
       "      <td>100282</td>\n",
       "      <td>5</td>\n",
       "    </tr>\n",
       "  </tbody>\n",
       "</table>\n",
       "</div>"
      ],
      "text/plain": [
       "    year                score  winner_id  sets_count\n",
       "43  1968  6-0 2-6 6-3 4-6 7-5     100282           5"
      ]
     },
     "metadata": {},
     "output_type": "display_data"
    },
    {
     "name": "stdout",
     "output_type": "stream",
     "text": [
      "Количество строк: 191911\n",
      "Количество столбцов: 4\n",
      "Количество пропусков в столбцах:\n",
      "year          0\n",
      "score         0\n",
      "winner_id     0\n",
      "sets_count    0\n",
      "dtype: int64\n",
      "Количество явных дубликатов: 17938\n"
     ]
    }
   ],
   "source": [
    "# Считываем данные и оставляем нужные столбцы, убираем пропуски\n",
    "combined_df = pd.read_csv('combined_atp_matches.csv')\n",
    "task_02 = combined_df[['year', 'score', 'winner_id']].dropna()\n",
    "\n",
    "# Создаем признак с количеством сетов\n",
    "# Учитываем только те сеты при подсчете, где явно указан счет партии в сете\n",
    "def count_sets_with_scores(score):\n",
    "    sets = re.findall(r'\\d+-\\d+', score)\n",
    "    return len(sets)\n",
    "\n",
    "\n",
    "task_02['sets_count'] = task_02['score'].apply(count_sets_with_scores)\n",
    "\n",
    "# Образец разбиения score на количество сетов\n",
    "unique_sets_count = sorted(task_02['sets_count'].unique())\n",
    "for count in unique_sets_count:\n",
    "    print(f'Образец для количества сетов: {count}')\n",
    "    display(task_02[task_02['sets_count'] == count].head(1))\n",
    "\n",
    "dataframe_summary(task_02)"
   ]
  },
  {
   "cell_type": "code",
   "execution_count": 201,
   "metadata": {},
   "outputs": [
    {
     "name": "stdout",
     "output_type": "stream",
     "text": [
      "Образец для количества сетов: 0\n"
     ]
    },
    {
     "data": {
      "text/html": [
       "<div>\n",
       "<style scoped>\n",
       "    .dataframe tbody tr th:only-of-type {\n",
       "        vertical-align: middle;\n",
       "    }\n",
       "\n",
       "    .dataframe tbody tr th {\n",
       "        vertical-align: top;\n",
       "    }\n",
       "\n",
       "    .dataframe thead th {\n",
       "        text-align: right;\n",
       "    }\n",
       "</style>\n",
       "<table border=\"1\" class=\"dataframe\">\n",
       "  <thead>\n",
       "    <tr style=\"text-align: right;\">\n",
       "      <th></th>\n",
       "      <th>year</th>\n",
       "      <th>score</th>\n",
       "      <th>winner_id</th>\n",
       "      <th>sets_count</th>\n",
       "    </tr>\n",
       "  </thead>\n",
       "  <tbody>\n",
       "    <tr>\n",
       "      <th>129</th>\n",
       "      <td>1968</td>\n",
       "      <td>W/O</td>\n",
       "      <td>100099</td>\n",
       "      <td>0</td>\n",
       "    </tr>\n",
       "  </tbody>\n",
       "</table>\n",
       "</div>"
      ],
      "text/plain": [
       "     year score  winner_id  sets_count\n",
       "129  1968   W/O     100099           0"
      ]
     },
     "metadata": {},
     "output_type": "display_data"
    },
    {
     "name": "stdout",
     "output_type": "stream",
     "text": [
      "Образец для количества сетов: 1\n"
     ]
    },
    {
     "data": {
      "text/html": [
       "<div>\n",
       "<style scoped>\n",
       "    .dataframe tbody tr th:only-of-type {\n",
       "        vertical-align: middle;\n",
       "    }\n",
       "\n",
       "    .dataframe tbody tr th {\n",
       "        vertical-align: top;\n",
       "    }\n",
       "\n",
       "    .dataframe thead th {\n",
       "        text-align: right;\n",
       "    }\n",
       "</style>\n",
       "<table border=\"1\" class=\"dataframe\">\n",
       "  <thead>\n",
       "    <tr style=\"text-align: right;\">\n",
       "      <th></th>\n",
       "      <th>year</th>\n",
       "      <th>score</th>\n",
       "      <th>winner_id</th>\n",
       "      <th>sets_count</th>\n",
       "    </tr>\n",
       "  </thead>\n",
       "  <tbody>\n",
       "    <tr>\n",
       "      <th>67</th>\n",
       "      <td>1968</td>\n",
       "      <td>1-0 RET</td>\n",
       "      <td>109825</td>\n",
       "      <td>1</td>\n",
       "    </tr>\n",
       "  </tbody>\n",
       "</table>\n",
       "</div>"
      ],
      "text/plain": [
       "    year    score  winner_id  sets_count\n",
       "67  1968  1-0 RET     109825           1"
      ]
     },
     "metadata": {},
     "output_type": "display_data"
    },
    {
     "name": "stdout",
     "output_type": "stream",
     "text": [
      "Образец для количества сетов: 2\n"
     ]
    },
    {
     "data": {
      "text/html": [
       "<div>\n",
       "<style scoped>\n",
       "    .dataframe tbody tr th:only-of-type {\n",
       "        vertical-align: middle;\n",
       "    }\n",
       "\n",
       "    .dataframe tbody tr th {\n",
       "        vertical-align: top;\n",
       "    }\n",
       "\n",
       "    .dataframe thead th {\n",
       "        text-align: right;\n",
       "    }\n",
       "</style>\n",
       "<table border=\"1\" class=\"dataframe\">\n",
       "  <thead>\n",
       "    <tr style=\"text-align: right;\">\n",
       "      <th></th>\n",
       "      <th>year</th>\n",
       "      <th>score</th>\n",
       "      <th>winner_id</th>\n",
       "      <th>sets_count</th>\n",
       "    </tr>\n",
       "  </thead>\n",
       "  <tbody>\n",
       "    <tr>\n",
       "      <th>0</th>\n",
       "      <td>1968</td>\n",
       "      <td>6-1 7-5</td>\n",
       "      <td>112411</td>\n",
       "      <td>2</td>\n",
       "    </tr>\n",
       "  </tbody>\n",
       "</table>\n",
       "</div>"
      ],
      "text/plain": [
       "   year    score  winner_id  sets_count\n",
       "0  1968  6-1 7-5     112411           2"
      ]
     },
     "metadata": {},
     "output_type": "display_data"
    },
    {
     "name": "stdout",
     "output_type": "stream",
     "text": [
      "Образец для количества сетов: 3\n"
     ]
    },
    {
     "data": {
      "text/html": [
       "<div>\n",
       "<style scoped>\n",
       "    .dataframe tbody tr th:only-of-type {\n",
       "        vertical-align: middle;\n",
       "    }\n",
       "\n",
       "    .dataframe tbody tr th {\n",
       "        vertical-align: top;\n",
       "    }\n",
       "\n",
       "    .dataframe thead th {\n",
       "        text-align: right;\n",
       "    }\n",
       "</style>\n",
       "<table border=\"1\" class=\"dataframe\">\n",
       "  <thead>\n",
       "    <tr style=\"text-align: right;\">\n",
       "      <th></th>\n",
       "      <th>year</th>\n",
       "      <th>score</th>\n",
       "      <th>winner_id</th>\n",
       "      <th>sets_count</th>\n",
       "    </tr>\n",
       "  </thead>\n",
       "  <tbody>\n",
       "    <tr>\n",
       "      <th>5</th>\n",
       "      <td>1968</td>\n",
       "      <td>4-6 8-6 6-2</td>\n",
       "      <td>207073</td>\n",
       "      <td>3</td>\n",
       "    </tr>\n",
       "  </tbody>\n",
       "</table>\n",
       "</div>"
      ],
      "text/plain": [
       "   year        score  winner_id  sets_count\n",
       "5  1968  4-6 8-6 6-2     207073           3"
      ]
     },
     "metadata": {},
     "output_type": "display_data"
    },
    {
     "name": "stdout",
     "output_type": "stream",
     "text": [
      "Образец для количества сетов: 4\n"
     ]
    },
    {
     "data": {
      "text/html": [
       "<div>\n",
       "<style scoped>\n",
       "    .dataframe tbody tr th:only-of-type {\n",
       "        vertical-align: middle;\n",
       "    }\n",
       "\n",
       "    .dataframe tbody tr th {\n",
       "        vertical-align: top;\n",
       "    }\n",
       "\n",
       "    .dataframe thead th {\n",
       "        text-align: right;\n",
       "    }\n",
       "</style>\n",
       "<table border=\"1\" class=\"dataframe\">\n",
       "  <thead>\n",
       "    <tr style=\"text-align: right;\">\n",
       "      <th></th>\n",
       "      <th>year</th>\n",
       "      <th>score</th>\n",
       "      <th>winner_id</th>\n",
       "      <th>sets_count</th>\n",
       "    </tr>\n",
       "  </thead>\n",
       "  <tbody>\n",
       "    <tr>\n",
       "      <th>32</th>\n",
       "      <td>1968</td>\n",
       "      <td>6-3 6-2 0-6 6-3</td>\n",
       "      <td>100099</td>\n",
       "      <td>4</td>\n",
       "    </tr>\n",
       "  </tbody>\n",
       "</table>\n",
       "</div>"
      ],
      "text/plain": [
       "    year            score  winner_id  sets_count\n",
       "32  1968  6-3 6-2 0-6 6-3     100099           4"
      ]
     },
     "metadata": {},
     "output_type": "display_data"
    },
    {
     "name": "stdout",
     "output_type": "stream",
     "text": [
      "Образец для количества сетов: 5\n"
     ]
    },
    {
     "data": {
      "text/html": [
       "<div>\n",
       "<style scoped>\n",
       "    .dataframe tbody tr th:only-of-type {\n",
       "        vertical-align: middle;\n",
       "    }\n",
       "\n",
       "    .dataframe tbody tr th {\n",
       "        vertical-align: top;\n",
       "    }\n",
       "\n",
       "    .dataframe thead th {\n",
       "        text-align: right;\n",
       "    }\n",
       "</style>\n",
       "<table border=\"1\" class=\"dataframe\">\n",
       "  <thead>\n",
       "    <tr style=\"text-align: right;\">\n",
       "      <th></th>\n",
       "      <th>year</th>\n",
       "      <th>score</th>\n",
       "      <th>winner_id</th>\n",
       "      <th>sets_count</th>\n",
       "    </tr>\n",
       "  </thead>\n",
       "  <tbody>\n",
       "    <tr>\n",
       "      <th>43</th>\n",
       "      <td>1968</td>\n",
       "      <td>6-0 2-6 6-3 4-6 7-5</td>\n",
       "      <td>100282</td>\n",
       "      <td>5</td>\n",
       "    </tr>\n",
       "  </tbody>\n",
       "</table>\n",
       "</div>"
      ],
      "text/plain": [
       "    year                score  winner_id  sets_count\n",
       "43  1968  6-0 2-6 6-3 4-6 7-5     100282           5"
      ]
     },
     "metadata": {},
     "output_type": "display_data"
    },
    {
     "name": "stdout",
     "output_type": "stream",
     "text": [
      "Количество строк: 173973\n",
      "Количество столбцов: 4\n",
      "Количество пропусков в столбцах:\n",
      "year          0\n",
      "score         0\n",
      "winner_id     0\n",
      "sets_count    0\n",
      "dtype: int64\n",
      "Количество явных дубликатов: 0\n"
     ]
    }
   ],
   "source": [
    "# Удаление полных дубликатов\n",
    "task_02 = task_02.drop_duplicates()\n",
    "\n",
    "# Образец разбиения score на количество сетов\n",
    "unique_sets_count = sorted(task_02['sets_count'].unique())\n",
    "for count in unique_sets_count:\n",
    "    print(f'Образец для количества сетов: {count}')\n",
    "    display(task_02[task_02['sets_count'] == count].head(1))\n",
    "\n",
    "dataframe_summary(task_02)"
   ]
  },
  {
   "cell_type": "code",
   "execution_count": 202,
   "metadata": {},
   "outputs": [
    {
     "data": {
      "image/png": "[encoded data removed]",
      "text/plain": [
       "<Figure size 1000x600 with 1 Axes>"
      ]
     },
     "metadata": {},
     "output_type": "display_data"
    }
   ],
   "source": [
    "# Рапределение количества сетов, всего\n",
    "# Фильтрация данных по годам\n",
    "task_02_1980_2001 = task_02[(task_02['year'] >= 1980) & (task_02['year'] <= 2001)].reset_index(drop=True)\n",
    "task_02_2002_2023 = task_02[(task_02['year'] > 2001) & (task_02['year'] <= 2023)].reset_index(drop=True)\n",
    "\n",
    "# Создание позиций для баров\n",
    "positions = range(1, max(task_02['sets_count']) + 2, 1)\n",
    "\n",
    "# Построение гистограммы для каждой группы с разными цветами\n",
    "plt.figure(figsize=(10, 6))\n",
    "plt.bar([pos - 0.2 for pos in positions],\n",
    "        task_02_1980_2001['sets_count'].value_counts().sort_index(),\n",
    "        width=0.4,\n",
    "        color='green',\n",
    "        alpha=0.7,\n",
    "        label='1980-2000')\n",
    "plt.bar([pos + 0.2 for pos in positions],\n",
    "        task_02_2002_2023['sets_count'].value_counts().sort_index(),\n",
    "        width=0.4,\n",
    "        color='gray',\n",
    "        alpha=0.7,\n",
    "        label='2000-2023')\n",
    "\n",
    "plt.title('Рапределение количества побед по сетам')\n",
    "plt.xlabel('Количество сетов')\n",
    "plt.ylabel('Количество побед')\n",
    "plt.legend()\n",
    "plt.show()"
   ]
  },
  {
   "cell_type": "code",
   "execution_count": 203,
   "metadata": {},
   "outputs": [
    {
     "data": {
      "image/png": "[encoded data removed]",
      "text/plain": [
       "<Figure size 1000x1000 with 4 Axes>"
      ]
     },
     "metadata": {},
     "output_type": "display_data"
    }
   ],
   "source": [
    "plot_sample_data(task_02_1980_2001.sets_count, task_02_2002_2023.sets_count,title_a='1980_2001', title_b='2002_2023')"
   ]
  },
  {
   "cell_type": "code",
   "execution_count": 204,
   "metadata": {},
   "outputs": [
    {
     "name": "stdout",
     "output_type": "stream",
     "text": [
      "Среднее количество сетов для побед в периоде 1980-2001: 2.653,       общее количество партий: 72558\n",
      "Среднее количество сетов для побед в периоде 2002-2023: 2.669,       общее количество партий: 60151\n"
     ]
    }
   ],
   "source": [
    "# Сравнение среднего количества побед\n",
    "\n",
    "print(\"Среднее количество сетов для побед в периоде 1980-2001: {:.4}, \\\n",
    "      общее количество партий: {}\".format(task_02_1980_2001.sets_count.mean(), len(task_02_1980_2001.sets_count)))\n",
    "\n",
    "print(\"Среднее количество сетов для побед в периоде 2002-2023: {:.4}, \\\n",
    "      общее количество партий: {}\".format(task_02_2002_2023.sets_count.mean(), len(task_02_2002_2023.sets_count)))\n"
   ]
  },
  {
   "cell_type": "code",
   "execution_count": 205,
   "metadata": {},
   "outputs": [
    {
     "name": "stdout",
     "output_type": "stream",
     "text": [
      "alpha: 0.05\n",
      "p-value sample A 0.0\n",
      "p-value sample B 0.0\n",
      "Отвергаем нулевую гипотезу H0: Распределения в обеих группах нормальные\n",
      "Альтернативная гипотеза. H1: Распределение в одной или обеих группах отлично от нормального\n"
     ]
    }
   ],
   "source": [
    "# выполним тест на нормальность\n",
    "shapiro_test(task_02_1980_2001.sets_count, task_02_2002_2023.sets_count, alpha=0.05)"
   ]
  },
  {
   "cell_type": "code",
   "execution_count": 206,
   "metadata": {},
   "outputs": [
    {
     "name": "stdout",
     "output_type": "stream",
     "text": [
      "t-statistic: -3.4641509089513445\n",
      "p-value: 0.999734045988888\n",
      "Не отвергаем нулевую гипотезу\n"
     ]
    }
   ],
   "source": [
    "# Примененим z-test - данных достаточно (>>30), визуально данные не значительно отличаются от нормального распределения, выборки независимы\n",
    "# используем alpha = 0.05\n",
    "# Нулевая гипотеза: среднее значение выборки 1980_2001 меньше или равно среднему значению выборки 2002_2023\n",
    "# Альтернативная гипотеза: среднее значение выборки 1980_2001 больше среднего значения выборки 2002_2023\n",
    "t_statistic, p_value = ztest(\n",
    "    task_02_1980_2001.sets_count, task_02_2002_2023.sets_count, alternative='larger')\n",
    "\n",
    "# Вывод результатов\n",
    "print(\"t-statistic:\", t_statistic)\n",
    "print(\"p-value:\", p_value)\n",
    "\n",
    "# Установим уровень значимости, например, 0.05\n",
    "alpha = 0.05\n",
    "\n",
    "# Проверим нулевую гипотезу\n",
    "if p_value < alpha:\n",
    "    print(\"Отвергаем нулевую гипотезу - среднее выборки 1980_2001 больше среднего выборки 2002_2023\")\n",
    "else:\n",
    "    print(\"Не отвергаем нулевую гипотезу\")"
   ]
  },
  {
   "cell_type": "markdown",
   "metadata": {},
   "source": [
    "### Вывод\n",
    "\n",
    "***Гипотеза, что среднее количество сетов необходимых для победы игрока уменьшается со временем - <u>не верна</u>.***\n",
    "\n",
    "***"
   ]
  },
  {
   "cell_type": "markdown",
   "metadata": {},
   "source": [
    "## Задача 3\n",
    ">У вас появились сомнения — не является ли результат, который вы посчитали на предыдущем шаге, некорректным. Кажется, что на это мог повлиять формат самого матча — best of 3 или best of 5. Оставьте только матчи best of 5 (колонка best_of) и определите — является ли разница среднего количества сетов, которое сыграл победитель, значимой для выборок матчей по 1980 до 2001 гг. и 2002-2022 гг. Выбор статистического теста обоснуйте."
   ]
  },
  {
   "cell_type": "markdown",
   "metadata": {},
   "source": [
    "Сформируем датасет:\n",
    "1. Отфильтруем данные оставив только матчи с df['best_of'] == 5 \n",
    "2. Разделим данные на две группы в зависимости от года матча. В первой группе будут матчи с 1980 по 2001 год, во второй с 2002 по 2022 год."
   ]
  },
  {
   "cell_type": "code",
   "execution_count": 207,
   "metadata": {},
   "outputs": [
    {
     "name": "stdout",
     "output_type": "stream",
     "text": [
      "Образец для количества сетов: 0\n"
     ]
    },
    {
     "data": {
      "text/html": [
       "<div>\n",
       "<style scoped>\n",
       "    .dataframe tbody tr th:only-of-type {\n",
       "        vertical-align: middle;\n",
       "    }\n",
       "\n",
       "    .dataframe tbody tr th {\n",
       "        vertical-align: top;\n",
       "    }\n",
       "\n",
       "    .dataframe thead th {\n",
       "        text-align: right;\n",
       "    }\n",
       "</style>\n",
       "<table border=\"1\" class=\"dataframe\">\n",
       "  <thead>\n",
       "    <tr style=\"text-align: right;\">\n",
       "      <th></th>\n",
       "      <th>year</th>\n",
       "      <th>score</th>\n",
       "      <th>winner_id</th>\n",
       "      <th>best_of</th>\n",
       "      <th>sets_count</th>\n",
       "    </tr>\n",
       "  </thead>\n",
       "  <tbody>\n",
       "    <tr>\n",
       "      <th>233</th>\n",
       "      <td>1968</td>\n",
       "      <td>W/O</td>\n",
       "      <td>100085</td>\n",
       "      <td>5</td>\n",
       "      <td>0</td>\n",
       "    </tr>\n",
       "  </tbody>\n",
       "</table>\n",
       "</div>"
      ],
      "text/plain": [
       "     year score  winner_id  best_of  sets_count\n",
       "233  1968   W/O     100085        5           0"
      ]
     },
     "metadata": {},
     "output_type": "display_data"
    },
    {
     "name": "stdout",
     "output_type": "stream",
     "text": [
      "Образец для количества сетов: 1\n"
     ]
    },
    {
     "data": {
      "text/html": [
       "<div>\n",
       "<style scoped>\n",
       "    .dataframe tbody tr th:only-of-type {\n",
       "        vertical-align: middle;\n",
       "    }\n",
       "\n",
       "    .dataframe tbody tr th {\n",
       "        vertical-align: top;\n",
       "    }\n",
       "\n",
       "    .dataframe thead th {\n",
       "        text-align: right;\n",
       "    }\n",
       "</style>\n",
       "<table border=\"1\" class=\"dataframe\">\n",
       "  <thead>\n",
       "    <tr style=\"text-align: right;\">\n",
       "      <th></th>\n",
       "      <th>year</th>\n",
       "      <th>score</th>\n",
       "      <th>winner_id</th>\n",
       "      <th>best_of</th>\n",
       "      <th>sets_count</th>\n",
       "    </tr>\n",
       "  </thead>\n",
       "  <tbody>\n",
       "    <tr>\n",
       "      <th>9444</th>\n",
       "      <td>1970</td>\n",
       "      <td>2-1 RET</td>\n",
       "      <td>100203</td>\n",
       "      <td>5</td>\n",
       "      <td>1</td>\n",
       "    </tr>\n",
       "  </tbody>\n",
       "</table>\n",
       "</div>"
      ],
      "text/plain": [
       "      year    score  winner_id  best_of  sets_count\n",
       "9444  1970  2-1 RET     100203        5           1"
      ]
     },
     "metadata": {},
     "output_type": "display_data"
    },
    {
     "name": "stdout",
     "output_type": "stream",
     "text": [
      "Образец для количества сетов: 2\n"
     ]
    },
    {
     "data": {
      "text/html": [
       "<div>\n",
       "<style scoped>\n",
       "    .dataframe tbody tr th:only-of-type {\n",
       "        vertical-align: middle;\n",
       "    }\n",
       "\n",
       "    .dataframe tbody tr th {\n",
       "        vertical-align: top;\n",
       "    }\n",
       "\n",
       "    .dataframe thead th {\n",
       "        text-align: right;\n",
       "    }\n",
       "</style>\n",
       "<table border=\"1\" class=\"dataframe\">\n",
       "  <thead>\n",
       "    <tr style=\"text-align: right;\">\n",
       "      <th></th>\n",
       "      <th>year</th>\n",
       "      <th>score</th>\n",
       "      <th>winner_id</th>\n",
       "      <th>best_of</th>\n",
       "      <th>sets_count</th>\n",
       "    </tr>\n",
       "  </thead>\n",
       "  <tbody>\n",
       "    <tr>\n",
       "      <th>101</th>\n",
       "      <td>1968</td>\n",
       "      <td>6-3 0-1 RET</td>\n",
       "      <td>110047</td>\n",
       "      <td>5</td>\n",
       "      <td>2</td>\n",
       "    </tr>\n",
       "  </tbody>\n",
       "</table>\n",
       "</div>"
      ],
      "text/plain": [
       "     year        score  winner_id  best_of  sets_count\n",
       "101  1968  6-3 0-1 RET     110047        5           2"
      ]
     },
     "metadata": {},
     "output_type": "display_data"
    },
    {
     "name": "stdout",
     "output_type": "stream",
     "text": [
      "Образец для количества сетов: 3\n"
     ]
    },
    {
     "data": {
      "text/html": [
       "<div>\n",
       "<style scoped>\n",
       "    .dataframe tbody tr th:only-of-type {\n",
       "        vertical-align: middle;\n",
       "    }\n",
       "\n",
       "    .dataframe tbody tr th {\n",
       "        vertical-align: top;\n",
       "    }\n",
       "\n",
       "    .dataframe thead th {\n",
       "        text-align: right;\n",
       "    }\n",
       "</style>\n",
       "<table border=\"1\" class=\"dataframe\">\n",
       "  <thead>\n",
       "    <tr style=\"text-align: right;\">\n",
       "      <th></th>\n",
       "      <th>year</th>\n",
       "      <th>score</th>\n",
       "      <th>winner_id</th>\n",
       "      <th>best_of</th>\n",
       "      <th>sets_count</th>\n",
       "    </tr>\n",
       "  </thead>\n",
       "  <tbody>\n",
       "    <tr>\n",
       "      <th>31</th>\n",
       "      <td>1968</td>\n",
       "      <td>6-1 6-4 6-4</td>\n",
       "      <td>100029</td>\n",
       "      <td>5</td>\n",
       "      <td>3</td>\n",
       "    </tr>\n",
       "  </tbody>\n",
       "</table>\n",
       "</div>"
      ],
      "text/plain": [
       "    year        score  winner_id  best_of  sets_count\n",
       "31  1968  6-1 6-4 6-4     100029        5           3"
      ]
     },
     "metadata": {},
     "output_type": "display_data"
    },
    {
     "name": "stdout",
     "output_type": "stream",
     "text": [
      "Образец для количества сетов: 4\n"
     ]
    },
    {
     "data": {
      "text/html": [
       "<div>\n",
       "<style scoped>\n",
       "    .dataframe tbody tr th:only-of-type {\n",
       "        vertical-align: middle;\n",
       "    }\n",
       "\n",
       "    .dataframe tbody tr th {\n",
       "        vertical-align: top;\n",
       "    }\n",
       "\n",
       "    .dataframe thead th {\n",
       "        text-align: right;\n",
       "    }\n",
       "</style>\n",
       "<table border=\"1\" class=\"dataframe\">\n",
       "  <thead>\n",
       "    <tr style=\"text-align: right;\">\n",
       "      <th></th>\n",
       "      <th>year</th>\n",
       "      <th>score</th>\n",
       "      <th>winner_id</th>\n",
       "      <th>best_of</th>\n",
       "      <th>sets_count</th>\n",
       "    </tr>\n",
       "  </thead>\n",
       "  <tbody>\n",
       "    <tr>\n",
       "      <th>32</th>\n",
       "      <td>1968</td>\n",
       "      <td>6-3 6-2 0-6 6-3</td>\n",
       "      <td>100099</td>\n",
       "      <td>5</td>\n",
       "      <td>4</td>\n",
       "    </tr>\n",
       "  </tbody>\n",
       "</table>\n",
       "</div>"
      ],
      "text/plain": [
       "    year            score  winner_id  best_of  sets_count\n",
       "32  1968  6-3 6-2 0-6 6-3     100099        5           4"
      ]
     },
     "metadata": {},
     "output_type": "display_data"
    },
    {
     "name": "stdout",
     "output_type": "stream",
     "text": [
      "Образец для количества сетов: 5\n"
     ]
    },
    {
     "data": {
      "text/html": [
       "<div>\n",
       "<style scoped>\n",
       "    .dataframe tbody tr th:only-of-type {\n",
       "        vertical-align: middle;\n",
       "    }\n",
       "\n",
       "    .dataframe tbody tr th {\n",
       "        vertical-align: top;\n",
       "    }\n",
       "\n",
       "    .dataframe thead th {\n",
       "        text-align: right;\n",
       "    }\n",
       "</style>\n",
       "<table border=\"1\" class=\"dataframe\">\n",
       "  <thead>\n",
       "    <tr style=\"text-align: right;\">\n",
       "      <th></th>\n",
       "      <th>year</th>\n",
       "      <th>score</th>\n",
       "      <th>winner_id</th>\n",
       "      <th>best_of</th>\n",
       "      <th>sets_count</th>\n",
       "    </tr>\n",
       "  </thead>\n",
       "  <tbody>\n",
       "    <tr>\n",
       "      <th>43</th>\n",
       "      <td>1968</td>\n",
       "      <td>6-0 2-6 6-3 4-6 7-5</td>\n",
       "      <td>100282</td>\n",
       "      <td>5</td>\n",
       "      <td>5</td>\n",
       "    </tr>\n",
       "  </tbody>\n",
       "</table>\n",
       "</div>"
      ],
      "text/plain": [
       "    year                score  winner_id  best_of  sets_count\n",
       "43  1968  6-0 2-6 6-3 4-6 7-5     100282        5           5"
      ]
     },
     "metadata": {},
     "output_type": "display_data"
    },
    {
     "name": "stdout",
     "output_type": "stream",
     "text": [
      "Количество строк: 42042\n",
      "Количество столбцов: 5\n",
      "Количество пропусков в столбцах:\n",
      "year          0\n",
      "score         0\n",
      "winner_id     0\n",
      "best_of       0\n",
      "sets_count    0\n",
      "dtype: int64\n",
      "Количество явных дубликатов: 289\n"
     ]
    }
   ],
   "source": [
    "# Считываем данные и оставляем нужные столбцы, убираем пропуски\n",
    "combined_df = pd.read_csv('combined_atp_matches.csv')\n",
    "task_03 = combined_df[['year', 'score', 'winner_id', 'best_of']].dropna()\n",
    "# оставляем только матчи best of 5\n",
    "task_03 = task_03[task_03.best_of == 5]\n",
    "\n",
    "# Создаем признак с количеством сетов\n",
    "# Учитываем только те сеты при подсчете, где явно указан счет партии в сете\n",
    "def count_sets_with_scores(score):\n",
    "    sets = re.findall(r'\\d+-\\d+', score)\n",
    "    return len(sets)\n",
    "\n",
    "\n",
    "task_03['sets_count'] = task_03['score'].apply(count_sets_with_scores)\n",
    "\n",
    "# Образец разбиения score на количество сетов\n",
    "unique_sets_count = sorted(task_03['sets_count'].unique())\n",
    "for count in unique_sets_count:\n",
    "    print(f'Образец для количества сетов: {count}')\n",
    "    display(task_03[task_03['sets_count'] == count].head(1))\n",
    "\n",
    "dataframe_summary(task_03)"
   ]
  },
  {
   "cell_type": "code",
   "execution_count": 208,
   "metadata": {},
   "outputs": [
    {
     "data": {
      "text/html": [
       "<div>\n",
       "<style scoped>\n",
       "    .dataframe tbody tr th:only-of-type {\n",
       "        vertical-align: middle;\n",
       "    }\n",
       "\n",
       "    .dataframe tbody tr th {\n",
       "        vertical-align: top;\n",
       "    }\n",
       "\n",
       "    .dataframe thead th {\n",
       "        text-align: right;\n",
       "    }\n",
       "</style>\n",
       "<table border=\"1\" class=\"dataframe\">\n",
       "  <thead>\n",
       "    <tr style=\"text-align: right;\">\n",
       "      <th></th>\n",
       "      <th>year</th>\n",
       "      <th>score</th>\n",
       "      <th>winner_id</th>\n",
       "      <th>best_of</th>\n",
       "      <th>sets_count</th>\n",
       "    </tr>\n",
       "  </thead>\n",
       "  <tbody>\n",
       "    <tr>\n",
       "      <th>31</th>\n",
       "      <td>1968</td>\n",
       "      <td>6-1 6-4 6-4</td>\n",
       "      <td>100029</td>\n",
       "      <td>5</td>\n",
       "      <td>3</td>\n",
       "    </tr>\n",
       "    <tr>\n",
       "      <th>32</th>\n",
       "      <td>1968</td>\n",
       "      <td>6-3 6-2 0-6 6-3</td>\n",
       "      <td>100099</td>\n",
       "      <td>5</td>\n",
       "      <td>4</td>\n",
       "    </tr>\n",
       "    <tr>\n",
       "      <th>33</th>\n",
       "      <td>1968</td>\n",
       "      <td>11-9 9-11 6-4 6-3</td>\n",
       "      <td>100022</td>\n",
       "      <td>5</td>\n",
       "      <td>4</td>\n",
       "    </tr>\n",
       "    <tr>\n",
       "      <th>34</th>\n",
       "      <td>1968</td>\n",
       "      <td>6-1 4-6 10-8 6-3</td>\n",
       "      <td>100026</td>\n",
       "      <td>5</td>\n",
       "      <td>4</td>\n",
       "    </tr>\n",
       "    <tr>\n",
       "      <th>35</th>\n",
       "      <td>1968</td>\n",
       "      <td>6-2 8-6 6-2</td>\n",
       "      <td>100029</td>\n",
       "      <td>5</td>\n",
       "      <td>3</td>\n",
       "    </tr>\n",
       "  </tbody>\n",
       "</table>\n",
       "</div>"
      ],
      "text/plain": [
       "    year              score  winner_id  best_of  sets_count\n",
       "31  1968        6-1 6-4 6-4     100029        5           3\n",
       "32  1968    6-3 6-2 0-6 6-3     100099        5           4\n",
       "33  1968  11-9 9-11 6-4 6-3     100022        5           4\n",
       "34  1968   6-1 4-6 10-8 6-3     100026        5           4\n",
       "35  1968        6-2 8-6 6-2     100029        5           3"
      ]
     },
     "execution_count": 208,
     "metadata": {},
     "output_type": "execute_result"
    }
   ],
   "source": [
    "task_03.head()"
   ]
  },
  {
   "cell_type": "code",
   "execution_count": 209,
   "metadata": {},
   "outputs": [
    {
     "name": "stdout",
     "output_type": "stream",
     "text": [
      "Образец для количества сетов: 0\n"
     ]
    },
    {
     "data": {
      "text/html": [
       "<div>\n",
       "<style scoped>\n",
       "    .dataframe tbody tr th:only-of-type {\n",
       "        vertical-align: middle;\n",
       "    }\n",
       "\n",
       "    .dataframe tbody tr th {\n",
       "        vertical-align: top;\n",
       "    }\n",
       "\n",
       "    .dataframe thead th {\n",
       "        text-align: right;\n",
       "    }\n",
       "</style>\n",
       "<table border=\"1\" class=\"dataframe\">\n",
       "  <thead>\n",
       "    <tr style=\"text-align: right;\">\n",
       "      <th></th>\n",
       "      <th>year</th>\n",
       "      <th>score</th>\n",
       "      <th>winner_id</th>\n",
       "      <th>best_of</th>\n",
       "      <th>sets_count</th>\n",
       "    </tr>\n",
       "  </thead>\n",
       "  <tbody>\n",
       "    <tr>\n",
       "      <th>233</th>\n",
       "      <td>1968</td>\n",
       "      <td>W/O</td>\n",
       "      <td>100085</td>\n",
       "      <td>5</td>\n",
       "      <td>0</td>\n",
       "    </tr>\n",
       "  </tbody>\n",
       "</table>\n",
       "</div>"
      ],
      "text/plain": [
       "     year score  winner_id  best_of  sets_count\n",
       "233  1968   W/O     100085        5           0"
      ]
     },
     "metadata": {},
     "output_type": "display_data"
    },
    {
     "name": "stdout",
     "output_type": "stream",
     "text": [
      "Образец для количества сетов: 1\n"
     ]
    },
    {
     "data": {
      "text/html": [
       "<div>\n",
       "<style scoped>\n",
       "    .dataframe tbody tr th:only-of-type {\n",
       "        vertical-align: middle;\n",
       "    }\n",
       "\n",
       "    .dataframe tbody tr th {\n",
       "        vertical-align: top;\n",
       "    }\n",
       "\n",
       "    .dataframe thead th {\n",
       "        text-align: right;\n",
       "    }\n",
       "</style>\n",
       "<table border=\"1\" class=\"dataframe\">\n",
       "  <thead>\n",
       "    <tr style=\"text-align: right;\">\n",
       "      <th></th>\n",
       "      <th>year</th>\n",
       "      <th>score</th>\n",
       "      <th>winner_id</th>\n",
       "      <th>best_of</th>\n",
       "      <th>sets_count</th>\n",
       "    </tr>\n",
       "  </thead>\n",
       "  <tbody>\n",
       "    <tr>\n",
       "      <th>9444</th>\n",
       "      <td>1970</td>\n",
       "      <td>2-1 RET</td>\n",
       "      <td>100203</td>\n",
       "      <td>5</td>\n",
       "      <td>1</td>\n",
       "    </tr>\n",
       "  </tbody>\n",
       "</table>\n",
       "</div>"
      ],
      "text/plain": [
       "      year    score  winner_id  best_of  sets_count\n",
       "9444  1970  2-1 RET     100203        5           1"
      ]
     },
     "metadata": {},
     "output_type": "display_data"
    },
    {
     "name": "stdout",
     "output_type": "stream",
     "text": [
      "Образец для количества сетов: 2\n"
     ]
    },
    {
     "data": {
      "text/html": [
       "<div>\n",
       "<style scoped>\n",
       "    .dataframe tbody tr th:only-of-type {\n",
       "        vertical-align: middle;\n",
       "    }\n",
       "\n",
       "    .dataframe tbody tr th {\n",
       "        vertical-align: top;\n",
       "    }\n",
       "\n",
       "    .dataframe thead th {\n",
       "        text-align: right;\n",
       "    }\n",
       "</style>\n",
       "<table border=\"1\" class=\"dataframe\">\n",
       "  <thead>\n",
       "    <tr style=\"text-align: right;\">\n",
       "      <th></th>\n",
       "      <th>year</th>\n",
       "      <th>score</th>\n",
       "      <th>winner_id</th>\n",
       "      <th>best_of</th>\n",
       "      <th>sets_count</th>\n",
       "    </tr>\n",
       "  </thead>\n",
       "  <tbody>\n",
       "    <tr>\n",
       "      <th>101</th>\n",
       "      <td>1968</td>\n",
       "      <td>6-3 0-1 RET</td>\n",
       "      <td>110047</td>\n",
       "      <td>5</td>\n",
       "      <td>2</td>\n",
       "    </tr>\n",
       "  </tbody>\n",
       "</table>\n",
       "</div>"
      ],
      "text/plain": [
       "     year        score  winner_id  best_of  sets_count\n",
       "101  1968  6-3 0-1 RET     110047        5           2"
      ]
     },
     "metadata": {},
     "output_type": "display_data"
    },
    {
     "name": "stdout",
     "output_type": "stream",
     "text": [
      "Образец для количества сетов: 3\n"
     ]
    },
    {
     "data": {
      "text/html": [
       "<div>\n",
       "<style scoped>\n",
       "    .dataframe tbody tr th:only-of-type {\n",
       "        vertical-align: middle;\n",
       "    }\n",
       "\n",
       "    .dataframe tbody tr th {\n",
       "        vertical-align: top;\n",
       "    }\n",
       "\n",
       "    .dataframe thead th {\n",
       "        text-align: right;\n",
       "    }\n",
       "</style>\n",
       "<table border=\"1\" class=\"dataframe\">\n",
       "  <thead>\n",
       "    <tr style=\"text-align: right;\">\n",
       "      <th></th>\n",
       "      <th>year</th>\n",
       "      <th>score</th>\n",
       "      <th>winner_id</th>\n",
       "      <th>best_of</th>\n",
       "      <th>sets_count</th>\n",
       "    </tr>\n",
       "  </thead>\n",
       "  <tbody>\n",
       "    <tr>\n",
       "      <th>31</th>\n",
       "      <td>1968</td>\n",
       "      <td>6-1 6-4 6-4</td>\n",
       "      <td>100029</td>\n",
       "      <td>5</td>\n",
       "      <td>3</td>\n",
       "    </tr>\n",
       "  </tbody>\n",
       "</table>\n",
       "</div>"
      ],
      "text/plain": [
       "    year        score  winner_id  best_of  sets_count\n",
       "31  1968  6-1 6-4 6-4     100029        5           3"
      ]
     },
     "metadata": {},
     "output_type": "display_data"
    },
    {
     "name": "stdout",
     "output_type": "stream",
     "text": [
      "Образец для количества сетов: 4\n"
     ]
    },
    {
     "data": {
      "text/html": [
       "<div>\n",
       "<style scoped>\n",
       "    .dataframe tbody tr th:only-of-type {\n",
       "        vertical-align: middle;\n",
       "    }\n",
       "\n",
       "    .dataframe tbody tr th {\n",
       "        vertical-align: top;\n",
       "    }\n",
       "\n",
       "    .dataframe thead th {\n",
       "        text-align: right;\n",
       "    }\n",
       "</style>\n",
       "<table border=\"1\" class=\"dataframe\">\n",
       "  <thead>\n",
       "    <tr style=\"text-align: right;\">\n",
       "      <th></th>\n",
       "      <th>year</th>\n",
       "      <th>score</th>\n",
       "      <th>winner_id</th>\n",
       "      <th>best_of</th>\n",
       "      <th>sets_count</th>\n",
       "    </tr>\n",
       "  </thead>\n",
       "  <tbody>\n",
       "    <tr>\n",
       "      <th>32</th>\n",
       "      <td>1968</td>\n",
       "      <td>6-3 6-2 0-6 6-3</td>\n",
       "      <td>100099</td>\n",
       "      <td>5</td>\n",
       "      <td>4</td>\n",
       "    </tr>\n",
       "  </tbody>\n",
       "</table>\n",
       "</div>"
      ],
      "text/plain": [
       "    year            score  winner_id  best_of  sets_count\n",
       "32  1968  6-3 6-2 0-6 6-3     100099        5           4"
      ]
     },
     "metadata": {},
     "output_type": "display_data"
    },
    {
     "name": "stdout",
     "output_type": "stream",
     "text": [
      "Образец для количества сетов: 5\n"
     ]
    },
    {
     "data": {
      "text/html": [
       "<div>\n",
       "<style scoped>\n",
       "    .dataframe tbody tr th:only-of-type {\n",
       "        vertical-align: middle;\n",
       "    }\n",
       "\n",
       "    .dataframe tbody tr th {\n",
       "        vertical-align: top;\n",
       "    }\n",
       "\n",
       "    .dataframe thead th {\n",
       "        text-align: right;\n",
       "    }\n",
       "</style>\n",
       "<table border=\"1\" class=\"dataframe\">\n",
       "  <thead>\n",
       "    <tr style=\"text-align: right;\">\n",
       "      <th></th>\n",
       "      <th>year</th>\n",
       "      <th>score</th>\n",
       "      <th>winner_id</th>\n",
       "      <th>best_of</th>\n",
       "      <th>sets_count</th>\n",
       "    </tr>\n",
       "  </thead>\n",
       "  <tbody>\n",
       "    <tr>\n",
       "      <th>43</th>\n",
       "      <td>1968</td>\n",
       "      <td>6-0 2-6 6-3 4-6 7-5</td>\n",
       "      <td>100282</td>\n",
       "      <td>5</td>\n",
       "      <td>5</td>\n",
       "    </tr>\n",
       "  </tbody>\n",
       "</table>\n",
       "</div>"
      ],
      "text/plain": [
       "    year                score  winner_id  best_of  sets_count\n",
       "43  1968  6-0 2-6 6-3 4-6 7-5     100282        5           5"
      ]
     },
     "metadata": {},
     "output_type": "display_data"
    },
    {
     "name": "stdout",
     "output_type": "stream",
     "text": [
      "Количество строк: 41753\n",
      "Количество столбцов: 5\n",
      "Количество пропусков в столбцах:\n",
      "year          0\n",
      "score         0\n",
      "winner_id     0\n",
      "best_of       0\n",
      "sets_count    0\n",
      "dtype: int64\n",
      "Количество явных дубликатов: 0\n"
     ]
    }
   ],
   "source": [
    "# Удаление полных дубликатов\n",
    "task_03 = task_03.drop_duplicates()\n",
    "\n",
    "# Образец разбиения score на количество сетов\n",
    "unique_sets_count = sorted(task_03['sets_count'].unique())\n",
    "for count in unique_sets_count:\n",
    "    print(f'Образец для количества сетов: {count}')\n",
    "    display(task_03[task_03['sets_count'] == count].head(1))\n",
    "\n",
    "dataframe_summary(task_03)"
   ]
  },
  {
   "cell_type": "code",
   "execution_count": 210,
   "metadata": {},
   "outputs": [
    {
     "data": {
      "text/html": [
       "<div>\n",
       "<style scoped>\n",
       "    .dataframe tbody tr th:only-of-type {\n",
       "        vertical-align: middle;\n",
       "    }\n",
       "\n",
       "    .dataframe tbody tr th {\n",
       "        vertical-align: top;\n",
       "    }\n",
       "\n",
       "    .dataframe thead th {\n",
       "        text-align: right;\n",
       "    }\n",
       "</style>\n",
       "<table border=\"1\" class=\"dataframe\">\n",
       "  <thead>\n",
       "    <tr style=\"text-align: right;\">\n",
       "      <th></th>\n",
       "      <th>year</th>\n",
       "      <th>score</th>\n",
       "      <th>winner_id</th>\n",
       "      <th>best_of</th>\n",
       "      <th>sets_count</th>\n",
       "    </tr>\n",
       "  </thead>\n",
       "  <tbody>\n",
       "    <tr>\n",
       "      <th>31</th>\n",
       "      <td>1968</td>\n",
       "      <td>6-1 6-4 6-4</td>\n",
       "      <td>100029</td>\n",
       "      <td>5</td>\n",
       "      <td>3</td>\n",
       "    </tr>\n",
       "    <tr>\n",
       "      <th>32</th>\n",
       "      <td>1968</td>\n",
       "      <td>6-3 6-2 0-6 6-3</td>\n",
       "      <td>100099</td>\n",
       "      <td>5</td>\n",
       "      <td>4</td>\n",
       "    </tr>\n",
       "    <tr>\n",
       "      <th>33</th>\n",
       "      <td>1968</td>\n",
       "      <td>11-9 9-11 6-4 6-3</td>\n",
       "      <td>100022</td>\n",
       "      <td>5</td>\n",
       "      <td>4</td>\n",
       "    </tr>\n",
       "    <tr>\n",
       "      <th>34</th>\n",
       "      <td>1968</td>\n",
       "      <td>6-1 4-6 10-8 6-3</td>\n",
       "      <td>100026</td>\n",
       "      <td>5</td>\n",
       "      <td>4</td>\n",
       "    </tr>\n",
       "    <tr>\n",
       "      <th>35</th>\n",
       "      <td>1968</td>\n",
       "      <td>6-2 8-6 6-2</td>\n",
       "      <td>100029</td>\n",
       "      <td>5</td>\n",
       "      <td>3</td>\n",
       "    </tr>\n",
       "  </tbody>\n",
       "</table>\n",
       "</div>"
      ],
      "text/plain": [
       "    year              score  winner_id  best_of  sets_count\n",
       "31  1968        6-1 6-4 6-4     100029        5           3\n",
       "32  1968    6-3 6-2 0-6 6-3     100099        5           4\n",
       "33  1968  11-9 9-11 6-4 6-3     100022        5           4\n",
       "34  1968   6-1 4-6 10-8 6-3     100026        5           4\n",
       "35  1968        6-2 8-6 6-2     100029        5           3"
      ]
     },
     "execution_count": 210,
     "metadata": {},
     "output_type": "execute_result"
    }
   ],
   "source": [
    "task_03.head()"
   ]
  },
  {
   "cell_type": "code",
   "execution_count": 211,
   "metadata": {},
   "outputs": [
    {
     "data": {
      "image/png": "[encoded data removed]",
      "text/plain": [
       "<Figure size 1000x600 with 1 Axes>"
      ]
     },
     "metadata": {},
     "output_type": "display_data"
    }
   ],
   "source": [
    "# Рапределение количества сетов best of 5, всего\n",
    "# c фильтрацией данных по годам\n",
    "task_03_1980_2001 = task_03[(task_03['year'] >= 1980) & (\n",
    "    task_03['year'] <= 2001)].reset_index(drop=True)\n",
    "task_03_2002_2023 = task_03[(task_03['year'] > 2001) & (\n",
    "    task_03['year'] <= 2023)].reset_index(drop=True)\n",
    "\n",
    "# Размещение баров\n",
    "positions = range(1, max(task_03['sets_count']) + 2, 1)\n",
    "\n",
    "# Построение гистограммы для каждой группы с разными цветами\n",
    "plt.figure(figsize=(10, 6))\n",
    "plt.bar([pos - 0.2 for pos in positions],\n",
    "        task_03_1980_2001['sets_count'].value_counts().sort_index(),\n",
    "        width=0.4,\n",
    "        color='green',\n",
    "        alpha=0.7,\n",
    "        label='1980-2000')\n",
    "plt.bar([pos + 0.2 for pos in positions],\n",
    "        task_03_2002_2023['sets_count'].value_counts().sort_index(),\n",
    "        width=0.4,\n",
    "        color='gray',\n",
    "        alpha=0.7,\n",
    "        label='2000-2023')\n",
    "\n",
    "plt.title('Рапределение количества побед по сетам')\n",
    "plt.xlabel('Количество сетов')\n",
    "plt.ylabel('Количество побед')\n",
    "plt.legend()\n",
    "plt.show()"
   ]
  },
  {
   "cell_type": "code",
   "execution_count": 212,
   "metadata": {},
   "outputs": [
    {
     "data": {
      "image/png": "[encoded data removed]",
      "text/plain": [
       "<Figure size 1000x1000 with 4 Axes>"
      ]
     },
     "metadata": {},
     "output_type": "display_data"
    }
   ],
   "source": [
    "plot_sample_data(task_03_1980_2001.sets_count, task_03_2002_2023.sets_count,\n",
    "                 title_a='1980_2001 best_of 5', title_b='2002_2023 best_of 5')"
   ]
  },
  {
   "cell_type": "code",
   "execution_count": 213,
   "metadata": {},
   "outputs": [
    {
     "name": "stdout",
     "output_type": "stream",
     "text": [
      "Среднее количество сетов для побед в периоде 1980-2001: 3.669, общее количество партий: 16109\n",
      "Среднее количество сетов для побед в периоде 2002-2023: 3.629, общее количество партий: 14699\n"
     ]
    }
   ],
   "source": [
    "# Сравнение среднего количества побед\n",
    "\n",
    "print(\"Среднее количество сетов для побед в периоде 1980-2001: {:.4}, общее количество партий: {}\".format(task_03_1980_2001.sets_count.mean(), len(task_03_1980_2001.sets_count)))\n",
    "print(\"Среднее количество сетов для побед в периоде 2002-2023: {:.4}, общее количество партий: {}\".format(task_03_2002_2023.sets_count.mean(), len(task_03_2002_2023.sets_count)))"
   ]
  },
  {
   "cell_type": "code",
   "execution_count": 214,
   "metadata": {},
   "outputs": [
    {
     "name": "stdout",
     "output_type": "stream",
     "text": [
      "alpha: 0.05\n",
      "p-value sample A 0.0\n",
      "p-value sample B 0.0\n",
      "Отвергаем нулевую гипотезу H0: Распределения в обеих группах нормальные\n",
      "Альтернативная гипотеза. H1: Распределение в одной или обеих группах отлично от нормального\n"
     ]
    }
   ],
   "source": [
    "# Выполним тест на нормальность\n",
    "shapiro_test(task_03_1980_2001.sets_count,\n",
    "             task_03_2002_2023.sets_count, alpha=0.05)"
   ]
  },
  {
   "cell_type": "markdown",
   "metadata": {},
   "source": [
    "Несмотря на результат теста, примем, что распределение близко к нормальному на основе визуального анализа диаграмм"
   ]
  },
  {
   "cell_type": "code",
   "execution_count": 215,
   "metadata": {},
   "outputs": [
    {
     "name": "stdout",
     "output_type": "stream",
     "text": [
      "Z-statistic: 4.225681445684541\n",
      "P-value: 1.1910939311081864e-05\n",
      "Отвергаем нулевую гипотезу \n"
     ]
    }
   ],
   "source": [
    "# Примененим z-test - данных достаточно (>>30), визуально данные не значительно отличаются от нормального распределения, выборки независимы\n",
    "# используем alpha = 0.05\n",
    "# Нулевая гипотеза: среднее значение выборки 1980_2001 меньше или равно среднему значению выборки 2002_2023\n",
    "# Альтернативная гипотеза: среднее значение выборки 1980_2001 больше среднего значения выборки 2002_2023\n",
    "\n",
    "# z-test\n",
    "z_stat, p_value = ztest(task_03_1980_2001.sets_count,\n",
    "                        task_03_2002_2023.sets_count, alternative='larger')\n",
    "\n",
    "print(f'Z-statistic: {z_stat}')\n",
    "print(f'P-value: {p_value}')\n",
    "\n",
    "# Установим уровень значимости, например, 0.05\n",
    "alpha = 0.05\n",
    "\n",
    "# Проверим нулевую гипотезу\n",
    "if p_value < alpha:\n",
    "    print(\"Отвергаем нулевую гипотезу \")\n",
    "else:\n",
    "    print(\"Не отвергаем нулевую гипотезу\")"
   ]
  },
  {
   "cell_type": "markdown",
   "metadata": {},
   "source": [
    "### Вывод\n",
    "\n",
    "Проведенный z тест позволяет утверждать - среднее первой выборки 1980_2001 больше среднего второй 2002_2023\n",
    "\n",
    "Значит гипотеза, что ***среднее количество сетов необходимое для победы любому игроку уменьшается со временем*** верна.\n",
    "\n",
    "***"
   ]
  },
  {
   "cell_type": "markdown",
   "metadata": {},
   "source": [
    "## Задача 4\n",
    "\n",
    ">Вы хотите изучить психологическую устойчивость профессиональных игроков в теннис. Одним из важных показателей такой устойчивости будет доля выигранных брейк-поинтов. Возьмите трех игроков (они необязательно должны играть в одно и то же время. Можете взять игроков, которые сильно отличаются по рангу, а можете взять примерно равных игроков), для каждого из них посчитайте долю выигранных брейк поинтов (колонки, заканчивающиеся на bpFaced и bpSaved) отдельно в победных и проигранных матчах за минимум 10 лет (можно больше, но годы должны идти подряд). Постройте box-plot’ы для этих статистик для каждого из игроков. Являются ли эти распределения по годам (по победным и по проигранным матчам) независимыми для каждого из игроков? Если сравнивать эту статистику между игроками — будет ли разница в средних для проигранных и выигранных матчей значимой попарно между всеми игроками? Выбор статистического теста обоснуйте."
   ]
  },
  {
   "cell_type": "markdown",
   "metadata": {},
   "source": [
    "Последовательность шагов:\n",
    "- Выбрать трех игроков игравших минимум 10 лет подряд\n",
    "- Для каждого игрока собрать данные о сыгранных матчах (количество брейк-поинтов, полученных игроком (bpFaced), и количество отыгранных брейк-поинтов (bpSaved) в каждом матче) за период минимум 10 лет подряд.\n",
    "- Для каждого игрока разделить матчи на две группы: выигранные и проигранные.\n",
    "- Посчитать и сравнить долю выигранных брейк-поинтов (bpSaved / bpFaced) в каждой группе матчей за каждый год."
   ]
  },
  {
   "cell_type": "code",
   "execution_count": 216,
   "metadata": {},
   "outputs": [
    {
     "name": "stdout",
     "output_type": "stream",
     "text": [
      "Количество строк: 3344\n",
      "Количество столбцов: 11\n",
      "Количество пропусков в столбцах:\n",
      "year           0\n",
      "winner_id      0\n",
      "loser_id       0\n",
      "w_bpSaved      0\n",
      "w_bpFaced      0\n",
      "l_bpSaved      0\n",
      "l_bpFaced      0\n",
      "winner_rank    0\n",
      "loser_rank     0\n",
      "game_result    0\n",
      "winned_bp      0\n",
      "dtype: int64\n",
      "Количество явных дубликатов: 0\n"
     ]
    }
   ],
   "source": [
    "# Создание выборки к задаче\n",
    "# Загрузка, выборка признаков и удаление пропусков\n",
    "combined_df = pd.read_csv('combined_atp_matches.csv')\n",
    "task_04 = combined_df[['year', 'winner_id', 'loser_id', 'w_bpSaved',\n",
    "                       'w_bpFaced', 'l_bpSaved', 'l_bpFaced', 'winner_rank', 'loser_rank']].dropna()\n",
    "\n",
    "# Отбор трех игроков с максимальным количеством сыгранных матчей\n",
    "ids = list(task_04.winner_id.value_counts().head(3).index)\n",
    "\n",
    "# фильтруем и группируем по игроку, вычисляем count и max, переименовываем столбцы для удобства \n",
    "(task_04[task_04['winner_id']\n",
    " .isin(ids)]\n",
    "  .groupby('winner_id')\n",
    "  .agg({'winner_id': 'count',  'winner_rank': 'max'})\n",
    "  .rename(columns={'winner_id': 'winns_count', 'winner_rank': 'winner_rank_max'}))\n",
    "\n",
    "task_04['game_result'] = task_04.apply(\n",
    "    lambda x: 1 if x['winner_id'] in ids else 0 if x['loser_id'] in ids else None, axis=1)\n",
    "task_04 = (task_04[(task_04['winner_id'].isin(ids)) |\n",
    "                   (task_04['loser_id'].isin(ids))])\n",
    "task_04['winned_bp'] = (task_04.apply(lambda x:\n",
    "                                      round(x['w_bpSaved'] / x['w_bpFaced'] * 100, 1) if x['game_result'] == 1\n",
    "                                      else round(x['l_bpSaved'] / x['l_bpFaced'] * 100, 1) if x['game_result'] == 0 else None, axis=1))\n",
    "task_04 = task_04.dropna()\n",
    "\n",
    "dataframe_summary(task_04)"
   ]
  },
  {
   "cell_type": "code",
   "execution_count": 217,
   "metadata": {},
   "outputs": [
    {
     "data": {
      "text/html": [
       "<div>\n",
       "<style scoped>\n",
       "    .dataframe tbody tr th:only-of-type {\n",
       "        vertical-align: middle;\n",
       "    }\n",
       "\n",
       "    .dataframe tbody tr th {\n",
       "        vertical-align: top;\n",
       "    }\n",
       "\n",
       "    .dataframe thead th {\n",
       "        text-align: right;\n",
       "    }\n",
       "</style>\n",
       "<table border=\"1\" class=\"dataframe\">\n",
       "  <thead>\n",
       "    <tr style=\"text-align: right;\">\n",
       "      <th></th>\n",
       "      <th>year</th>\n",
       "      <th>winner_id</th>\n",
       "      <th>loser_id</th>\n",
       "      <th>w_bpSaved</th>\n",
       "      <th>w_bpFaced</th>\n",
       "      <th>l_bpSaved</th>\n",
       "      <th>l_bpFaced</th>\n",
       "      <th>winner_rank</th>\n",
       "      <th>loser_rank</th>\n",
       "      <th>game_result</th>\n",
       "      <th>winned_bp</th>\n",
       "    </tr>\n",
       "  </thead>\n",
       "  <tbody>\n",
       "    <tr>\n",
       "      <th>115195</th>\n",
       "      <td>1998</td>\n",
       "      <td>102463</td>\n",
       "      <td>103819</td>\n",
       "      <td>1.0</td>\n",
       "      <td>3.0</td>\n",
       "      <td>1.0</td>\n",
       "      <td>5.0</td>\n",
       "      <td>88.0</td>\n",
       "      <td>702.0</td>\n",
       "      <td>0.0</td>\n",
       "      <td>20.0</td>\n",
       "    </tr>\n",
       "    <tr>\n",
       "      <th>116251</th>\n",
       "      <td>1998</td>\n",
       "      <td>103819</td>\n",
       "      <td>101703</td>\n",
       "      <td>1.0</td>\n",
       "      <td>1.0</td>\n",
       "      <td>4.0</td>\n",
       "      <td>8.0</td>\n",
       "      <td>878.0</td>\n",
       "      <td>45.0</td>\n",
       "      <td>1.0</td>\n",
       "      <td>100.0</td>\n",
       "    </tr>\n",
       "    <tr>\n",
       "      <th>116260</th>\n",
       "      <td>1998</td>\n",
       "      <td>103819</td>\n",
       "      <td>101735</td>\n",
       "      <td>4.0</td>\n",
       "      <td>4.0</td>\n",
       "      <td>8.0</td>\n",
       "      <td>10.0</td>\n",
       "      <td>878.0</td>\n",
       "      <td>43.0</td>\n",
       "      <td>1.0</td>\n",
       "      <td>100.0</td>\n",
       "    </tr>\n",
       "    <tr>\n",
       "      <th>116265</th>\n",
       "      <td>1998</td>\n",
       "      <td>101733</td>\n",
       "      <td>103819</td>\n",
       "      <td>4.0</td>\n",
       "      <td>5.0</td>\n",
       "      <td>7.0</td>\n",
       "      <td>10.0</td>\n",
       "      <td>20.0</td>\n",
       "      <td>878.0</td>\n",
       "      <td>0.0</td>\n",
       "      <td>70.0</td>\n",
       "    </tr>\n",
       "    <tr>\n",
       "      <th>116273</th>\n",
       "      <td>1998</td>\n",
       "      <td>101736</td>\n",
       "      <td>103819</td>\n",
       "      <td>1.0</td>\n",
       "      <td>2.0</td>\n",
       "      <td>4.0</td>\n",
       "      <td>8.0</td>\n",
       "      <td>8.0</td>\n",
       "      <td>396.0</td>\n",
       "      <td>0.0</td>\n",
       "      <td>50.0</td>\n",
       "    </tr>\n",
       "  </tbody>\n",
       "</table>\n",
       "</div>"
      ],
      "text/plain": [
       "        year  winner_id  loser_id  w_bpSaved  w_bpFaced  l_bpSaved  l_bpFaced  \\\n",
       "115195  1998     102463    103819        1.0        3.0        1.0        5.0   \n",
       "116251  1998     103819    101703        1.0        1.0        4.0        8.0   \n",
       "116260  1998     103819    101735        4.0        4.0        8.0       10.0   \n",
       "116265  1998     101733    103819        4.0        5.0        7.0       10.0   \n",
       "116273  1998     101736    103819        1.0        2.0        4.0        8.0   \n",
       "\n",
       "        winner_rank  loser_rank  game_result  winned_bp  \n",
       "115195         88.0       702.0          0.0       20.0  \n",
       "116251        878.0        45.0          1.0      100.0  \n",
       "116260        878.0        43.0          1.0      100.0  \n",
       "116265         20.0       878.0          0.0       70.0  \n",
       "116273          8.0       396.0          0.0       50.0  "
      ]
     },
     "execution_count": 217,
     "metadata": {},
     "output_type": "execute_result"
    }
   ],
   "source": [
    "task_04.head()"
   ]
  },
  {
   "cell_type": "markdown",
   "metadata": {},
   "source": [
    "Для отбора временного окна, где для каждого игрока есть данные и о победах и опоражениях графически посмотрим на распределение побед и поражений"
   ]
  },
  {
   "cell_type": "code",
   "execution_count": 218,
   "metadata": {},
   "outputs": [
    {
     "data": {
      "text/plain": [
       "Text(0, 0.5, 'Количество матчей с победой')"
      ]
     },
     "execution_count": 218,
     "metadata": {},
     "output_type": "execute_result"
    },
    {
     "data": {
      "image/png": "[encoded data removed]",
      "text/plain": [
       "<Figure size 640x480 with 1 Axes>"
      ]
     },
     "metadata": {},
     "output_type": "display_data"
    }
   ],
   "source": [
    "win_plot = task_04[task_04.game_result == 1].groupby(['year', 'winner_id']).size().unstack(\n",
    ").plot(kind='bar', stacked=False, width=0.8, color=['yellow', 'blue', 'lightgreen'])\n",
    "win_plot.set_title('Распределение побед по годам для каждого игрока')\n",
    "win_plot.set_xlabel('Год')\n",
    "win_plot.set_ylabel('Количество матчей с победой')"
   ]
  },
  {
   "cell_type": "code",
   "execution_count": 219,
   "metadata": {},
   "outputs": [
    {
     "data": {
      "text/plain": [
       "Text(0, 0.5, 'Количество матчей с поражением')"
      ]
     },
     "execution_count": 219,
     "metadata": {},
     "output_type": "execute_result"
    },
    {
     "data": {
      "image/png": "[encoded data removed]",
      "text/plain": [
       "<Figure size 640x480 with 1 Axes>"
      ]
     },
     "metadata": {},
     "output_type": "display_data"
    }
   ],
   "source": [
    "lose_plot = task_04[task_04.game_result == 0].groupby(['year', 'loser_id']).size().unstack().plot(kind='bar', stacked=False, width=0.8, color=['yellow', 'blue', 'lightgreen'])\n",
    "lose_plot.set_title('Распределение поражений по годам для каждого игрока')\n",
    "lose_plot.set_xlabel('Год')\n",
    "lose_plot.set_ylabel('Количество матчей с поражением')"
   ]
  },
  {
   "cell_type": "code",
   "execution_count": 220,
   "metadata": {},
   "outputs": [
    {
     "name": "stdout",
     "output_type": "stream",
     "text": [
      "Количество строк: 2054\n",
      "Количество столбцов: 11\n",
      "Количество пропусков в столбцах:\n",
      "year           0\n",
      "winner_id      0\n",
      "loser_id       0\n",
      "w_bpSaved      0\n",
      "w_bpFaced      0\n",
      "l_bpSaved      0\n",
      "l_bpFaced      0\n",
      "winner_rank    0\n",
      "loser_rank     0\n",
      "game_result    0\n",
      "winned_bp      0\n",
      "dtype: int64\n",
      "Количество явных дубликатов: 0\n"
     ]
    }
   ],
   "source": [
    "# выбираем  временное окно 2005-2015\n",
    "task_04 = task_04[(task_04['year'] >= 2005) & (task_04['year'] <= 2015)]\n",
    "dataframe_summary(task_04)"
   ]
  },
  {
   "cell_type": "code",
   "execution_count": 221,
   "metadata": {},
   "outputs": [
    {
     "data": {
      "text/html": [
       "<div>\n",
       "<style scoped>\n",
       "    .dataframe tbody tr th:only-of-type {\n",
       "        vertical-align: middle;\n",
       "    }\n",
       "\n",
       "    .dataframe tbody tr th {\n",
       "        vertical-align: top;\n",
       "    }\n",
       "\n",
       "    .dataframe thead th {\n",
       "        text-align: right;\n",
       "    }\n",
       "</style>\n",
       "<table border=\"1\" class=\"dataframe\">\n",
       "  <thead>\n",
       "    <tr style=\"text-align: right;\">\n",
       "      <th></th>\n",
       "      <th>103819_1.0</th>\n",
       "      <th>103819_0.0</th>\n",
       "      <th>104925_1.0</th>\n",
       "      <th>104925_0.0</th>\n",
       "      <th>104745_1.0</th>\n",
       "      <th>104745_0.0</th>\n",
       "    </tr>\n",
       "    <tr>\n",
       "      <th>year</th>\n",
       "      <th></th>\n",
       "      <th></th>\n",
       "      <th></th>\n",
       "      <th></th>\n",
       "      <th></th>\n",
       "      <th></th>\n",
       "    </tr>\n",
       "  </thead>\n",
       "  <tbody>\n",
       "    <tr>\n",
       "      <th>2005</th>\n",
       "      <td>64.243836</td>\n",
       "      <td>40.300000</td>\n",
       "      <td>67.000000</td>\n",
       "      <td>54.100000</td>\n",
       "      <td>62.619403</td>\n",
       "      <td>50.466667</td>\n",
       "    </tr>\n",
       "    <tr>\n",
       "      <th>2006</th>\n",
       "      <td>66.363095</td>\n",
       "      <td>50.000000</td>\n",
       "      <td>61.560000</td>\n",
       "      <td>52.073333</td>\n",
       "      <td>70.866038</td>\n",
       "      <td>50.320000</td>\n",
       "    </tr>\n",
       "    <tr>\n",
       "      <th>2007</th>\n",
       "      <td>64.980328</td>\n",
       "      <td>52.983333</td>\n",
       "      <td>69.075000</td>\n",
       "      <td>56.270000</td>\n",
       "      <td>70.122581</td>\n",
       "      <td>56.760000</td>\n",
       "    </tr>\n",
       "    <tr>\n",
       "      <th>2008</th>\n",
       "      <td>71.783333</td>\n",
       "      <td>58.490000</td>\n",
       "      <td>67.315000</td>\n",
       "      <td>59.780000</td>\n",
       "      <td>64.375362</td>\n",
       "      <td>49.877778</td>\n",
       "    </tr>\n",
       "    <tr>\n",
       "      <th>2009</th>\n",
       "      <td>74.607843</td>\n",
       "      <td>52.262500</td>\n",
       "      <td>65.311688</td>\n",
       "      <td>57.783333</td>\n",
       "      <td>66.294643</td>\n",
       "      <td>54.110000</td>\n",
       "    </tr>\n",
       "    <tr>\n",
       "      <th>2010</th>\n",
       "      <td>70.996226</td>\n",
       "      <td>54.245455</td>\n",
       "      <td>67.857407</td>\n",
       "      <td>56.100000</td>\n",
       "      <td>65.139683</td>\n",
       "      <td>48.200000</td>\n",
       "    </tr>\n",
       "    <tr>\n",
       "      <th>2011</th>\n",
       "      <td>65.290741</td>\n",
       "      <td>61.840000</td>\n",
       "      <td>65.045161</td>\n",
       "      <td>36.925000</td>\n",
       "      <td>63.628070</td>\n",
       "      <td>47.150000</td>\n",
       "    </tr>\n",
       "    <tr>\n",
       "      <th>2012</th>\n",
       "      <td>74.124561</td>\n",
       "      <td>46.742857</td>\n",
       "      <td>66.338571</td>\n",
       "      <td>49.716667</td>\n",
       "      <td>72.132500</td>\n",
       "      <td>38.750000</td>\n",
       "    </tr>\n",
       "    <tr>\n",
       "      <th>2013</th>\n",
       "      <td>69.852273</td>\n",
       "      <td>60.663636</td>\n",
       "      <td>65.454237</td>\n",
       "      <td>61.050000</td>\n",
       "      <td>69.810000</td>\n",
       "      <td>69.825000</td>\n",
       "    </tr>\n",
       "    <tr>\n",
       "      <th>2014</th>\n",
       "      <td>75.493220</td>\n",
       "      <td>61.025000</td>\n",
       "      <td>64.198305</td>\n",
       "      <td>36.325000</td>\n",
       "      <td>70.951111</td>\n",
       "      <td>53.955556</td>\n",
       "    </tr>\n",
       "    <tr>\n",
       "      <th>2015</th>\n",
       "      <td>67.451020</td>\n",
       "      <td>60.133333</td>\n",
       "      <td>63.633824</td>\n",
       "      <td>75.733333</td>\n",
       "      <td>67.382759</td>\n",
       "      <td>51.120000</td>\n",
       "    </tr>\n",
       "  </tbody>\n",
       "</table>\n",
       "</div>"
      ],
      "text/plain": [
       "      103819_1.0  103819_0.0  104925_1.0  104925_0.0  104745_1.0  104745_0.0\n",
       "year                                                                        \n",
       "2005   64.243836   40.300000   67.000000   54.100000   62.619403   50.466667\n",
       "2006   66.363095   50.000000   61.560000   52.073333   70.866038   50.320000\n",
       "2007   64.980328   52.983333   69.075000   56.270000   70.122581   56.760000\n",
       "2008   71.783333   58.490000   67.315000   59.780000   64.375362   49.877778\n",
       "2009   74.607843   52.262500   65.311688   57.783333   66.294643   54.110000\n",
       "2010   70.996226   54.245455   67.857407   56.100000   65.139683   48.200000\n",
       "2011   65.290741   61.840000   65.045161   36.925000   63.628070   47.150000\n",
       "2012   74.124561   46.742857   66.338571   49.716667   72.132500   38.750000\n",
       "2013   69.852273   60.663636   65.454237   61.050000   69.810000   69.825000\n",
       "2014   75.493220   61.025000   64.198305   36.325000   70.951111   53.955556\n",
       "2015   67.451020   60.133333   63.633824   75.733333   67.382759   51.120000"
      ]
     },
     "execution_count": 221,
     "metadata": {},
     "output_type": "execute_result"
    }
   ],
   "source": [
    "# Сбор общей статистики по игрокам\n",
    "result = []\n",
    "for gamer_id in ids:\n",
    "    for game_result in task_04.game_result.unique():\n",
    "        df = (task_04[(task_04.game_result == game_result) &\n",
    "                      ((task_04.winner_id == gamer_id) | (task_04.loser_id == gamer_id))])\n",
    "        df = df.groupby(['year'])['winned_bp'].mean().reset_index()\n",
    "        # Set the column name to \"<gamer_id>_<result>\"\n",
    "        column_name = f\"{gamer_id}_{game_result}\"\n",
    "        df.rename(columns={'winned_bp': column_name}, inplace=True)\n",
    "        df.set_index('year', inplace=True)\n",
    "        result.append(df)\n",
    "\n",
    "# Concatenate the result dataframes on the columns\n",
    "task_04_result_df = pd.concat(result, axis=1)\n",
    "task_04_result_df"
   ]
  },
  {
   "cell_type": "code",
   "execution_count": 222,
   "metadata": {},
   "outputs": [
    {
     "data": {
      "image/png": "[encoded data removed]",
      "text/plain": [
       "<Figure size 1000x600 with 1 Axes>"
      ]
     },
     "metadata": {},
     "output_type": "display_data"
    }
   ],
   "source": [
    "# Создание боксплотов\n",
    "plt.figure(figsize=(10, 6))\n",
    "boxplot = task_04_result_df.boxplot()\n",
    "\n",
    "# Настройка заголовка и осей\n",
    "plt.title('Boxplot of Game Results by Year')\n",
    "plt.xlabel('Gamer ID, Game Result')\n",
    "plt.ylabel('Mean % Win BP')\n",
    "plt.show()"
   ]
  },
  {
   "cell_type": "markdown",
   "metadata": {},
   "source": [
    "Для того чтобы выяснить, независимо ли распределение метрики winned_bp по годам для каждого игрока, можно использовать следующие статистические тесты:\n",
    "\n",
    "* Для одного игрока (внутригрупповой анализ):\n",
    "\n",
    "Чтобы проверить независимость распределения winned_bp по годам для победных и проигранных матчей одного игрока, можно использовать `двусторонний хи-квадрат тест независимости`. Этот тест сравнит частоты winned_bp для победных и проигранных матчей по каждому году.\n",
    "\n",
    "* Между игроками (межгрупповой анализ):\n",
    "Для сравнения средних значений метрики winned_bp между игроками для выигранных матчей и отдельно для проигранных матчей можно использовать `однофакторный ANOVA тест`, если предполагается, что данные распределены нормально и дисперсии равны.\n",
    "\n",
    "Если данные не соответствуют предпосылкам нормальности или гомоскедастичности, следует использовать непараметрический тест, например, Краскела-Уоллиса.\n",
    "\n",
    "Перед применением статистических тестов, необходимо проверить предпосылки:\n",
    "\n",
    "`Нормальность распределения`: тест Шапиро-Уилка.\n",
    "\n",
    "`Равенство дисперсий`: тест Левена или Бартлетта.\n",
    "\n",
    "После проверки предпосылок выбираем соответствующий статистический тест. Если предпосылки не выполняются, используем соответствующие непараметрические тесты."
   ]
  },
  {
   "cell_type": "markdown",
   "metadata": {},
   "source": [
    "1. Проверить предположение о независимости распределений по годам для каждого игрока с помощью теста Краскела-Уоллиса. Это непараметрический аналог одностороннего дисперсионного анализа (ANOVA), который не требует предположения о нормальном распределении данных. Нулевая гипотеза: распределения по годам идентичны для каждого игрока, альтернативная: по крайней мере одно распределение отличается от остальных."
   ]
  },
  {
   "cell_type": "code",
   "execution_count": 223,
   "metadata": {},
   "outputs": [
    {
     "name": "stdout",
     "output_type": "stream",
     "text": [
      "Для игрока 103819: Отвергаем нулевую гипотезу. Принимаем гипотезу по крайней мере одно распределение отличается от остальных\n",
      "Для игрока 104925: Отвергаем нулевую гипотезу. Принимаем гипотезу по крайней мере одно распределение отличается от остальных\n",
      "Для игрока 104745: Отвергаем нулевую гипотезу. Принимаем гипотезу по крайней мере одно распределение отличается от остальных\n"
     ]
    }
   ],
   "source": [
    "H0 = 'распределения по годам идентичны для каждого игрока'\n",
    "H1 = 'по крайней мере одно распределение отличается от остальных'\n",
    "\n",
    "\n",
    "def run_kruskal_test(player_id, task_04_result_df):\n",
    "    statistic, p_value = kruskal(\n",
    "        task_04_result_df[f'{player_id}_1.0'], task_04_result_df[f'{player_id}_0.0'])\n",
    "    result = f\"Отвергаем нулевую гипотезу. Принимаем гипотезу {H1}\" if p_value < 0.05 else f\"Принимаем альтернативную гипотезу {H1}\"\n",
    "    print(f\"Для игрока {player_id}: {result}\")\n",
    "\n",
    "\n",
    "for player in ids:\n",
    "    run_kruskal_test(player, task_04_result_df)"
   ]
  },
  {
   "cell_type": "markdown",
   "metadata": {},
   "source": [
    "2. Для сравнения долей выигранных брейк-поинтов между игроками можно использовать тест Краскела-Уоллиса для независимых выборок. Проверяем гипотезу о том, что средние доли выигранных брейк-поинтов одинаковы для всех игроков, отдельно для проигранных и выигранных матчей. Если обнаруживается значимое различие, то можно провести попарные сравнения с помощью теста Манна-Уитни с поправкой Бонферрони."
   ]
  },
  {
   "cell_type": "code",
   "execution_count": 224,
   "metadata": {},
   "outputs": [
    {
     "name": "stdout",
     "output_type": "stream",
     "text": [
      "Для игрока 103819: Отвергаем нулевую гипотезу: средние доли выигранных брейк-поинтов различны.\n",
      "Для игрока 104925: Отвергаем нулевую гипотезу: средние доли выигранных брейк-поинтов различны.\n",
      "Для игрока 104745: Отвергаем нулевую гипотезу: средние доли выигранных брейк-поинтов различны.\n",
      "Сравнение для игроков 103819 и 104925: Принимаем нулевую гипотезу: средние доли выигранных брейк-поинтов одинаковы.\n",
      "Сравнение для игроков 103819 и 104745: Принимаем нулевую гипотезу: средние доли выигранных брейк-поинтов одинаковы.\n",
      "Сравнение для игроков 104925 и 104745: Принимаем нулевую гипотезу: средние доли выигранных брейк-поинтов одинаковы.\n"
     ]
    }
   ],
   "source": [
    "def run_kruskal_wallis_test(task_04_result_df):\n",
    "\n",
    "    for player in ids:\n",
    "        player_data = task_04_result_df[[f'{player}_1.0', f'{player}_0.0']]\n",
    "        statistic, p_value = kruskal(\n",
    "            player_data[f'{player}_1.0'], player_data[f'{player}_0.0'])\n",
    "        result = \"Отвергаем нулевую гипотезу: средние доли выигранных брейк-поинтов различны.\" if p_value < 0.05 else \"Принимаем нулевую гипотезу: средние доли выигранных брейк-поинтов одинаковы.\"\n",
    "        print(f\"Для игрока {player}: {result}\")\n",
    "\n",
    "    # Попарные сравнения с помощью теста Манна-Уитни с поправкой Бонферрони\n",
    "    for i in range(len(ids)):\n",
    "        for j in range(i+1, len(ids)):\n",
    "            player1_data = task_04_result_df[[\n",
    "                f'{ids[i]}_1.0', f'{ids[i]}_0.0']]\n",
    "            player2_data = task_04_result_df[[\n",
    "                f'{ids[j]}_1.0', f'{ids[j]}_0.0']]\n",
    "            _, p_value = mannwhitneyu(\n",
    "                player1_data[f'{ids[i]}_1.0'], player2_data[f'{ids[j]}_1.0'], alternative='two-sided')\n",
    "            adjusted_p_value = p_value * \\\n",
    "                len(ids) * (len(ids) - 1) / 2  # Поправка Бонферрони\n",
    "            comparison_result = \"Отвергаем нулевую гипотезу: средние доли выигранных брейк-поинтов различны.\" if adjusted_p_value < 0.05 else \"Принимаем нулевую гипотезу: средние доли выигранных брейк-поинтов одинаковы.\"\n",
    "            print(\n",
    "                f\"Сравнение для игроков {ids[i]} и {ids[j]}: {comparison_result}\")\n",
    "\n",
    "\n",
    "run_kruskal_wallis_test(task_04_result_df)"
   ]
  },
  {
   "cell_type": "markdown",
   "metadata": {},
   "source": [
    "### Выводы\n",
    "1. Распределения по годам (по победным и по проигранным матчам) <b>являются независимыми</b> для каждого из игроков.\n",
    "2. <b>Нет статистически значимой разницы</b> в средних для проигранных и выигранных матчей попарно между всеми игроками.\n",
    "\n",
    "***"
   ]
  },
  {
   "cell_type": "markdown",
   "metadata": {},
   "source": [
    "## Задача 5"
   ]
  },
  {
   "cell_type": "markdown",
   "metadata": {},
   "source": [
    ">У вас есть гипотеза, что доля выигранных брейк-поинтов связана с вероятностью победить в игре. Соберите статистику, где для каждого матча будет собран его исход (победа/поражение) и доля выигранных брейк-поинтов (не забудьте, что в матче два игрока). Разделите долю выигранных брейкпоинтов на группы выше/ниже медианы и, используя информацию о исходе матча, проверьте зависимость между количеством выигранных брейкпоинтов и результатом матча. Насколько сильна эта зависимость? Выбор статистического теста обоснуйте."
   ]
  },
  {
   "cell_type": "markdown",
   "metadata": {},
   "source": [
    "Шаги:\n",
    "\n",
    "1. Создать новый признак, отражающий долю выигранных брейк-поинтов для каждого игрока в матче по формуле:  \n",
    "Доля выигранных брейк-поинтов = (wbpSaved + lbpSaved) / (wbpFaced + lbpFaced)\n",
    "\n",
    "2. Разделить выборку на две группы: матчи, где игроки выиграли брейк-поинты больше или равно медиане, и матчи, где они выиграли меньше медианы.\n",
    "\n",
    "3. Создать таблицу сопряжённости, где строки - доля выигранных брейк-поинтов (выше/ниже медианы), а столбцы — исход матча (победа/поражение).\n",
    "\n",
    "Сбор данных о брейк-поинтах (колонки bpFaced и bpSaved) за 10 лет подряд (отдельно для победных и проигранных матчей) и расчет доли выигранных брейк-поинтов (bpSaved / bpFaced) для каждого игрока (отдельно для победных и проигранных матчей по годам) *выполняется как в задании 4*."
   ]
  },
  {
   "cell_type": "code",
   "execution_count": 102,
   "metadata": {},
   "outputs": [
    {
     "name": "stdout",
     "output_type": "stream",
     "text": [
      "Количество строк: 114879\n",
      "Количество столбцов: 5\n",
      "Количество пропусков в столбцах:\n",
      "year                 0\n",
      "id                   0\n",
      "bp_ratio             0\n",
      "result               0\n",
      "breakpoints_level    0\n",
      "dtype: int64\n",
      "Количество явных дубликатов: 0\n"
     ]
    }
   ],
   "source": [
    "# Создание выборки для задачи\n",
    "combined_df = pd.read_csv('combined_atp_matches.csv')\n",
    "\n",
    "# Выбор определенных столбцов и удаление строк с отсутствующими значениями\n",
    "task_05 = combined_df[['year', 'winner_id', 'loser_id',\n",
    "                       'w_bpSaved', 'w_bpFaced', 'l_bpSaved', 'l_bpFaced']].dropna()\n",
    "\n",
    "# Вычисление показателей соотношения брейк-поинтов\n",
    "task_05['bp_ratio_winner'] = round(\n",
    "    (task_05['w_bpSaved'] / task_05['w_bpFaced'] * 100), 1)\n",
    "task_05['bp_ratio_loser'] = round(\n",
    "    (task_05['l_bpSaved'] / task_05['l_bpFaced'] * 100), 1)\n",
    "\n",
    "# Удаление строк с отсутствующими значениями\n",
    "task_05 = task_05.dropna()\n",
    "\n",
    "# Создание DataFrame для победителей и проигравших\n",
    "winners = task_05[['year', 'winner_id', 'bp_ratio_winner']].rename(\n",
    "    columns={'winner_id': 'id', 'bp_ratio_winner': 'bp_ratio'})\n",
    "losers = task_05[['year', 'loser_id', 'bp_ratio_loser']].rename(\n",
    "    columns={'loser_id': 'id', 'bp_ratio_loser': 'bp_ratio'})\n",
    "\n",
    "# Добавление столбца 'result'\n",
    "winners['result'] = 1\n",
    "losers['result'] = 0\n",
    "\n",
    "# Удаление дублирующихся строк\n",
    "task_05 = task_05.drop_duplicates()\n",
    "\n",
    "# Объединение DataFrame\n",
    "task_05 = pd.concat([winners, losers], ignore_index=True)\n",
    "task_05 = task_05.drop_duplicates()\n",
    "\n",
    "# Вычисление медианы показателя брейк-поинтов для победителей и проигравших\n",
    "losers_median = losers.bp_ratio.median()\n",
    "winners_median = winners.bp_ratio.median()\n",
    "\n",
    "# Создание столбца 'breakpoints_level'\n",
    "task_05['breakpoints_level'] = (task_05\n",
    "                                .apply(lambda x:\n",
    "                                       'more median' if (x['bp_ratio'] >= winners_median and x['result'] == 1) else\n",
    "                                       'less median' if (x['bp_ratio'] < winners_median and x['result'] == 1) else\n",
    "                                       'more median' if (x['bp_ratio'] >= losers_median and x['result'] == 0) else\n",
    "                                       'less median' if (x['bp_ratio'] < losers_median and x['result'] == 0) else '', axis=1))\n",
    "\n",
    "dataframe_summary(task_05)  # Отображение информации о DataFrame"
   ]
  },
  {
   "cell_type": "code",
   "execution_count": 91,
   "metadata": {},
   "outputs": [
    {
     "data": {
      "text/html": [
       "<div>\n",
       "<style scoped>\n",
       "    .dataframe tbody tr th:only-of-type {\n",
       "        vertical-align: middle;\n",
       "    }\n",
       "\n",
       "    .dataframe tbody tr th {\n",
       "        vertical-align: top;\n",
       "    }\n",
       "\n",
       "    .dataframe thead th {\n",
       "        text-align: right;\n",
       "    }\n",
       "</style>\n",
       "<table border=\"1\" class=\"dataframe\">\n",
       "  <thead>\n",
       "    <tr style=\"text-align: right;\">\n",
       "      <th></th>\n",
       "      <th>year</th>\n",
       "      <th>id</th>\n",
       "      <th>bp_ratio</th>\n",
       "      <th>result</th>\n",
       "      <th>breakpoints_level</th>\n",
       "    </tr>\n",
       "  </thead>\n",
       "  <tbody>\n",
       "    <tr>\n",
       "      <th>0</th>\n",
       "      <td>1991</td>\n",
       "      <td>101723</td>\n",
       "      <td>50.0</td>\n",
       "      <td>1</td>\n",
       "      <td>less median</td>\n",
       "    </tr>\n",
       "    <tr>\n",
       "      <th>1</th>\n",
       "      <td>1991</td>\n",
       "      <td>100946</td>\n",
       "      <td>90.0</td>\n",
       "      <td>1</td>\n",
       "      <td>more median</td>\n",
       "    </tr>\n",
       "    <tr>\n",
       "      <th>2</th>\n",
       "      <td>1991</td>\n",
       "      <td>101234</td>\n",
       "      <td>100.0</td>\n",
       "      <td>1</td>\n",
       "      <td>more median</td>\n",
       "    </tr>\n",
       "    <tr>\n",
       "      <th>3</th>\n",
       "      <td>1991</td>\n",
       "      <td>101889</td>\n",
       "      <td>100.0</td>\n",
       "      <td>1</td>\n",
       "      <td>more median</td>\n",
       "    </tr>\n",
       "    <tr>\n",
       "      <th>4</th>\n",
       "      <td>1991</td>\n",
       "      <td>101274</td>\n",
       "      <td>87.5</td>\n",
       "      <td>1</td>\n",
       "      <td>more median</td>\n",
       "    </tr>\n",
       "  </tbody>\n",
       "</table>\n",
       "</div>"
      ],
      "text/plain": [
       "   year      id  bp_ratio  result breakpoints_level\n",
       "0  1991  101723      50.0       1       less median\n",
       "1  1991  100946      90.0       1       more median\n",
       "2  1991  101234     100.0       1       more median\n",
       "3  1991  101889     100.0       1       more median\n",
       "4  1991  101274      87.5       1       more median"
      ]
     },
     "execution_count": 91,
     "metadata": {},
     "output_type": "execute_result"
    }
   ],
   "source": [
    "task_05.head()"
   ]
  },
  {
   "cell_type": "code",
   "execution_count": 92,
   "metadata": {},
   "outputs": [
    {
     "name": "stdout",
     "output_type": "stream",
     "text": [
      "66.7 53.3\n"
     ]
    }
   ],
   "source": [
    "print(winners_median, losers_median)"
   ]
  },
  {
   "cell_type": "code",
   "execution_count": 93,
   "metadata": {},
   "outputs": [
    {
     "data": {
      "text/html": [
       "<div>\n",
       "<style scoped>\n",
       "    .dataframe tbody tr th:only-of-type {\n",
       "        vertical-align: middle;\n",
       "    }\n",
       "\n",
       "    .dataframe tbody tr th {\n",
       "        vertical-align: top;\n",
       "    }\n",
       "\n",
       "    .dataframe thead th {\n",
       "        text-align: right;\n",
       "    }\n",
       "</style>\n",
       "<table border=\"1\" class=\"dataframe\">\n",
       "  <thead>\n",
       "    <tr style=\"text-align: right;\">\n",
       "      <th>breakpoints_level</th>\n",
       "      <th>less median</th>\n",
       "      <th>more median</th>\n",
       "    </tr>\n",
       "    <tr>\n",
       "      <th>result</th>\n",
       "      <th></th>\n",
       "      <th></th>\n",
       "    </tr>\n",
       "  </thead>\n",
       "  <tbody>\n",
       "    <tr>\n",
       "      <th>0</th>\n",
       "      <td>30556</td>\n",
       "      <td>35615</td>\n",
       "    </tr>\n",
       "    <tr>\n",
       "      <th>1</th>\n",
       "      <td>22003</td>\n",
       "      <td>26705</td>\n",
       "    </tr>\n",
       "  </tbody>\n",
       "</table>\n",
       "</div>"
      ],
      "text/plain": [
       "breakpoints_level  less median  more median\n",
       "result                                     \n",
       "0                        30556        35615\n",
       "1                        22003        26705"
      ]
     },
     "execution_count": 93,
     "metadata": {},
     "output_type": "execute_result"
    }
   ],
   "source": [
    "task_05.groupby('result')['breakpoints_level'].value_counts().unstack()"
   ]
  },
  {
   "cell_type": "code",
   "execution_count": 98,
   "metadata": {},
   "outputs": [
    {
     "data": {
      "image/png": "[encoded data removed]",
      "text/plain": [
       "<Figure size 640x480 with 1 Axes>"
      ]
     },
     "metadata": {},
     "output_type": "display_data"
    }
   ],
   "source": [
    "count_of_games = task_05.groupby(\n",
    "    'result')['breakpoints_level'].value_counts().unstack().plot(kind='bar', color=['green', 'gray'])\n",
    "count_of_games.set_title('Breakpoints Level Histogram')\n",
    "plt.xlabel('Результат Матча: 0 - Поражение, 1 - Победа')\n",
    "plt.ylabel('Количество наблюдений')\n",
    "plt.legend(title='Доля выигранных брейкпоинтов')\n",
    "plt.show()"
   ]
  },
  {
   "cell_type": "code",
   "execution_count": 103,
   "metadata": {},
   "outputs": [
    {
     "data": {
      "text/html": [
       "<div>\n",
       "<style scoped>\n",
       "    .dataframe tbody tr th:only-of-type {\n",
       "        vertical-align: middle;\n",
       "    }\n",
       "\n",
       "    .dataframe tbody tr th {\n",
       "        vertical-align: top;\n",
       "    }\n",
       "\n",
       "    .dataframe thead th {\n",
       "        text-align: right;\n",
       "    }\n",
       "</style>\n",
       "<table border=\"1\" class=\"dataframe\">\n",
       "  <thead>\n",
       "    <tr style=\"text-align: right;\">\n",
       "      <th>breakpoints_level</th>\n",
       "      <th>less median</th>\n",
       "      <th>more median</th>\n",
       "    </tr>\n",
       "    <tr>\n",
       "      <th>result</th>\n",
       "      <th></th>\n",
       "      <th></th>\n",
       "    </tr>\n",
       "  </thead>\n",
       "  <tbody>\n",
       "    <tr>\n",
       "      <th>0</th>\n",
       "      <td>30556</td>\n",
       "      <td>35615</td>\n",
       "    </tr>\n",
       "    <tr>\n",
       "      <th>1</th>\n",
       "      <td>22003</td>\n",
       "      <td>26705</td>\n",
       "    </tr>\n",
       "  </tbody>\n",
       "</table>\n",
       "</div>"
      ],
      "text/plain": [
       "breakpoints_level  less median  more median\n",
       "result                                     \n",
       "0                        30556        35615\n",
       "1                        22003        26705"
      ]
     },
     "execution_count": 103,
     "metadata": {},
     "output_type": "execute_result"
    }
   ],
   "source": [
    "count_of_games = task_05.groupby(\n",
    "    'result')['breakpoints_level'].value_counts().unstack()\n",
    "count_of_games"
   ]
  },
  {
   "cell_type": "code",
   "execution_count": 104,
   "metadata": {},
   "outputs": [
    {
     "data": {
      "text/plain": [
       "30556"
      ]
     },
     "execution_count": 104,
     "metadata": {},
     "output_type": "execute_result"
    }
   ],
   "source": [
    "count_of_games['less median'][0]"
   ]
  },
  {
   "cell_type": "markdown",
   "metadata": {},
   "source": [
    "**Обоснование выбора теста**\n",
    "\n",
    "Парный Z-тест используется для сравнения средних значений двух связанных выборок. В данном случае есть две выборки (значения \"breakpoints_level\" для двух разных медианных значений \"less median\" и \"more median\") и можно использовать парный Z-тест для определения, есть ли статистически значимая разница между этими двумя значениями."
   ]
  },
  {
   "cell_type": "code",
   "execution_count": 106,
   "metadata": {},
   "outputs": [
    {
     "name": "stdout",
     "output_type": "stream",
     "text": [
      "p-value:  0.0\n",
      "Отвергаем нулевую гипотезу. Соотношения долей брейкпоинтов (больше / меньше медианы) -  в группах 0 и 1 равны\n",
      "Альтернативная гипотеза. H1: Доля брейкпоинтов больше медианы -  в группе 0 выше, чем в группе 1\n"
     ]
    }
   ],
   "source": [
    "# нулевая и альтернативная гипотезы\n",
    "H0 = 'Соотношения долей брейкпоинтов (больше / меньше медианы) -  в группах 0 и 1 равны'\n",
    "H1 = 'Доля брейкпоинтов больше медианы -  в группе 0 выше, чем в группе 1'\n",
    "alpha = 0.05  # уровень значимости\n",
    "# вычисляем значение p-value для z-теста для пропорций\n",
    "_, p_value = proportions_ztest(\n",
    "    count=count_of_games['less median'],\n",
    "    nobs=count_of_games['more median'],\n",
    "    alternative='larger',\n",
    ")\n",
    "# выводим результат на экран\n",
    "print('p-value: ', round(p_value, 2))\n",
    "# сравниваем полученное p-value с уровнем значимости\n",
    "if (p_value < alpha):\n",
    "    print(\"Отвергаем нулевую гипотезу. {}\".format(H0))\n",
    "    print(\"Альтернативная гипотеза. H1: {}\".format(H1))\n",
    "else:\n",
    "    print(\"Принимаем нулевую гипотезу. {}\".format(H0))"
   ]
  },
  {
   "cell_type": "markdown",
   "metadata": {},
   "source": [
    "### Вывод\n",
    "\n",
    "Доля выигранных брейк-поинтов ***связана*** с вероятностью победить в игре.\n",
    "\n",
    "***"
   ]
  }
 ],
 "metadata": {
  "kernelspec": {
   "display_name": "Python 3",
   "language": "python",
   "name": "python3"
  },
  "language_info": {
   "codemirror_mode": {
    "name": "ipython",
    "version": 3
   },
   "file_extension": ".py",
   "mimetype": "text/x-python",
   "name": "python",
   "nbconvert_exporter": "python",
   "pygments_lexer": "ipython3",
   "version": "3.11.4"
  }
 },
 "nbformat": 4,
 "nbformat_minor": 2
}
